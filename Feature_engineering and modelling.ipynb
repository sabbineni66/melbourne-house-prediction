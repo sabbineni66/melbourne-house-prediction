{
 "cells": [
  {
   "cell_type": "markdown",
   "metadata": {},
   "source": [
    "# Project-Melbourne_House Prediction"
   ]
  },
  {
   "cell_type": "markdown",
   "metadata": {},
   "source": [
    "# Feature Engineering"
   ]
  },
  {
   "cell_type": "code",
   "execution_count": 1,
   "metadata": {},
   "outputs": [],
   "source": [
    "import pandas as pd\n",
    "import numpy as np   ## For mathematical calculations\n",
    "import seaborn as sns   # For data visualization \n",
    "import matplotlib.pyplot as plt  # For plotting graphs \n",
    "%matplotlib inline\n",
    "import warnings\n",
    "warnings.filterwarnings(\"ignore\")"
   ]
  },
  {
   "cell_type": "code",
   "execution_count": 2,
   "metadata": {},
   "outputs": [
    {
     "name": "stdout",
     "output_type": "stream",
     "text": [
      "<class 'pandas.core.frame.DataFrame'>\n",
      "RangeIndex: 34857 entries, 0 to 34856\n",
      "Data columns (total 21 columns):\n",
      " #   Column         Non-Null Count  Dtype  \n",
      "---  ------         --------------  -----  \n",
      " 0   Suburb         34857 non-null  object \n",
      " 1   Address        34857 non-null  object \n",
      " 2   Rooms          34857 non-null  int64  \n",
      " 3   Type           34857 non-null  object \n",
      " 4   Price          27247 non-null  float64\n",
      " 5   Method         34857 non-null  object \n",
      " 6   SellerG        34857 non-null  object \n",
      " 7   Date           34857 non-null  object \n",
      " 8   Distance       34856 non-null  float64\n",
      " 9   Postcode       34856 non-null  float64\n",
      " 10  Bedroom2       26640 non-null  float64\n",
      " 11  Bathroom       26631 non-null  float64\n",
      " 12  Car            26129 non-null  float64\n",
      " 13  Landsize       23047 non-null  float64\n",
      " 14  BuildingArea   13742 non-null  float64\n",
      " 15  YearBuilt      15551 non-null  float64\n",
      " 16  CouncilArea    34854 non-null  object \n",
      " 17  Lattitude      26881 non-null  float64\n",
      " 18  Longtitude     26881 non-null  float64\n",
      " 19  Regionname     34854 non-null  object \n",
      " 20  Propertycount  34854 non-null  float64\n",
      "dtypes: float64(12), int64(1), object(8)\n",
      "memory usage: 5.6+ MB\n"
     ]
    }
   ],
   "source": [
    "#loading dataset\n",
    "df=pd.read_csv('Melbourne_housing_FULL.csv')\n",
    "#check the columns dtypes\n",
    "df.info()"
   ]
  },
  {
   "cell_type": "code",
   "execution_count": 3,
   "metadata": {},
   "outputs": [],
   "source": [
    "#Let’s make a copy of data so that even if we have to make any changes in these datasets we would not lose the original datasets.\n",
    "data=df.copy()"
   ]
  },
  {
   "cell_type": "markdown",
   "metadata": {},
   "source": [
    "There is something wrong with data types. Let's change that. For example, there is no reason why postcode is considered as a float while it's clearly a category. I'll take the time to change all the problematic types, one by one\n",
    "\n",
    "- change Bathroom and Car to integer Series\n",
    "- Postcode is a categorical variable, not a numeric one\n",
    "- Yearbuilt should be an integer"
   ]
  },
  {
   "cell_type": "code",
   "execution_count": 4,
   "metadata": {},
   "outputs": [],
   "source": [
    "#lets change the postcode numerical to categorical\n",
    "df['Postcode']=df['Postcode'].astype('object')"
   ]
  },
  {
   "cell_type": "code",
   "execution_count": 5,
   "metadata": {},
   "outputs": [
    {
     "data": {
      "text/plain": [
       "array(['2016-03-09T00:00:00.000000000', '2016-03-12T00:00:00.000000000',\n",
       "       '2016-04-02T00:00:00.000000000', '2017-04-03T00:00:00.000000000',\n",
       "       '2016-04-06T00:00:00.000000000', '2016-06-08T00:00:00.000000000',\n",
       "       '2016-07-05T00:00:00.000000000', '2016-07-11T00:00:00.000000000',\n",
       "       '2016-08-10T00:00:00.000000000', '2016-10-12T00:00:00.000000000',\n",
       "       '2016-12-11T00:00:00.000000000', '2016-08-13T00:00:00.000000000',\n",
       "       '2016-05-14T00:00:00.000000000', '2016-10-15T00:00:00.000000000',\n",
       "       '2016-04-16T00:00:00.000000000', '2016-07-16T00:00:00.000000000',\n",
       "       '2016-09-17T00:00:00.000000000', '2017-03-18T00:00:00.000000000',\n",
       "       '2016-06-18T00:00:00.000000000', '2016-11-19T00:00:00.000000000',\n",
       "       '2016-05-22T00:00:00.000000000', '2016-08-22T00:00:00.000000000',\n",
       "       '2016-04-23T00:00:00.000000000', '2016-09-24T00:00:00.000000000',\n",
       "       '2017-02-25T00:00:00.000000000', '2016-07-26T00:00:00.000000000',\n",
       "       '2016-11-27T00:00:00.000000000', '2016-05-28T00:00:00.000000000',\n",
       "       '2016-07-30T00:00:00.000000000', '2016-10-09T00:00:00.000000000',\n",
       "       '2017-11-02T00:00:00.000000000', '2016-06-27T00:00:00.000000000',\n",
       "       '2016-08-28T00:00:00.000000000', '2016-12-06T00:00:00.000000000',\n",
       "       '2017-11-03T00:00:00.000000000', '2016-01-28T00:00:00.000000000',\n",
       "       '2017-06-05T00:00:00.000000000', '2017-08-04T00:00:00.000000000',\n",
       "       '2017-05-13T00:00:00.000000000', '2017-04-29T00:00:00.000000000',\n",
       "       '2017-05-20T00:00:00.000000000', '2017-04-22T00:00:00.000000000',\n",
       "       '2017-01-07T00:00:00.000000000', '2017-03-06T00:00:00.000000000',\n",
       "       '2017-06-17T00:00:00.000000000', '2017-06-24T00:00:00.000000000',\n",
       "       '2017-05-27T00:00:00.000000000', '2017-08-07T00:00:00.000000000',\n",
       "       '2017-12-08T00:00:00.000000000', '2017-07-15T00:00:00.000000000',\n",
       "       '2017-07-22T00:00:00.000000000', '2017-07-29T00:00:00.000000000',\n",
       "       '2017-03-09T00:00:00.000000000', '2017-09-09T00:00:00.000000000',\n",
       "       '2017-09-16T00:00:00.000000000', '2017-08-19T00:00:00.000000000',\n",
       "       '2017-09-23T00:00:00.000000000', '2017-08-26T00:00:00.000000000',\n",
       "       '2017-07-10T00:00:00.000000000', '2017-10-14T00:00:00.000000000',\n",
       "       '2017-10-21T00:00:00.000000000', '2017-10-28T00:00:00.000000000',\n",
       "       '2017-09-30T00:00:00.000000000', '2017-04-11T00:00:00.000000000',\n",
       "       '2017-11-11T00:00:00.000000000', '2017-11-18T00:00:00.000000000',\n",
       "       '2017-11-25T00:00:00.000000000', '2018-06-01T00:00:00.000000000',\n",
       "       '2017-09-12T00:00:00.000000000', '2018-03-02T00:00:00.000000000',\n",
       "       '2018-10-02T00:00:00.000000000', '2018-01-20T00:00:00.000000000',\n",
       "       '2018-01-27T00:00:00.000000000', '2018-03-03T00:00:00.000000000',\n",
       "       '2018-10-03T00:00:00.000000000', '2018-02-17T00:00:00.000000000',\n",
       "       '2018-03-17T00:00:00.000000000', '2018-02-24T00:00:00.000000000'],\n",
       "      dtype='datetime64[ns]')"
      ]
     },
     "execution_count": 5,
     "metadata": {},
     "output_type": "execute_result"
    }
   ],
   "source": [
    "# The above data we can notice that \"Date\" is also converted to category. \n",
    "# In this step we will cast date to datetime\n",
    "from datetime import datetime\n",
    "df['Date']=pd.to_datetime(df['Date'])\n",
    "df['Date'].unique()"
   ]
  },
  {
   "cell_type": "code",
   "execution_count": 6,
   "metadata": {},
   "outputs": [
    {
     "data": {
      "text/plain": [
       "0        2016\n",
       "1        2016\n",
       "2        2016\n",
       "3        2016\n",
       "4        2017\n",
       "         ... \n",
       "34852    2018\n",
       "34853    2018\n",
       "34854    2018\n",
       "34855    2018\n",
       "34856    2018\n",
       "Name: Year, Length: 34857, dtype: int64"
      ]
     },
     "execution_count": 6,
     "metadata": {},
     "output_type": "execute_result"
    }
   ],
   "source": [
    "#extract year from date\n",
    "df['Year']=df['Date'].apply(lambda x:x.year)\n",
    "df['Year']"
   ]
  },
  {
   "cell_type": "code",
   "execution_count": 7,
   "metadata": {},
   "outputs": [
    {
     "data": {
      "text/plain": [
       "0        3\n",
       "1        3\n",
       "2        4\n",
       "3        4\n",
       "4        4\n",
       "        ..\n",
       "34852    2\n",
       "34853    2\n",
       "34854    2\n",
       "34855    2\n",
       "34856    2\n",
       "Name: Month, Length: 34857, dtype: int64"
      ]
     },
     "execution_count": 7,
     "metadata": {},
     "output_type": "execute_result"
    }
   ],
   "source": [
    "#extract month from date\n",
    "df['Month']=df['Date'].apply(lambda x:x.month)\n",
    "df['Month']"
   ]
  },
  {
   "cell_type": "code",
   "execution_count": 8,
   "metadata": {},
   "outputs": [
    {
     "name": "stdout",
     "output_type": "stream",
     "text": [
      "<class 'pandas.core.frame.DataFrame'>\n",
      "RangeIndex: 34857 entries, 0 to 34856\n",
      "Data columns (total 23 columns):\n",
      " #   Column         Non-Null Count  Dtype         \n",
      "---  ------         --------------  -----         \n",
      " 0   Suburb         34857 non-null  object        \n",
      " 1   Address        34857 non-null  object        \n",
      " 2   Rooms          34857 non-null  int64         \n",
      " 3   Type           34857 non-null  object        \n",
      " 4   Price          27247 non-null  float64       \n",
      " 5   Method         34857 non-null  object        \n",
      " 6   SellerG        34857 non-null  object        \n",
      " 7   Date           34857 non-null  datetime64[ns]\n",
      " 8   Distance       34856 non-null  float64       \n",
      " 9   Postcode       34856 non-null  object        \n",
      " 10  Bedroom2       26640 non-null  float64       \n",
      " 11  Bathroom       26631 non-null  float64       \n",
      " 12  Car            26129 non-null  float64       \n",
      " 13  Landsize       23047 non-null  float64       \n",
      " 14  BuildingArea   13742 non-null  float64       \n",
      " 15  YearBuilt      15551 non-null  float64       \n",
      " 16  CouncilArea    34854 non-null  object        \n",
      " 17  Lattitude      26881 non-null  float64       \n",
      " 18  Longtitude     26881 non-null  float64       \n",
      " 19  Regionname     34854 non-null  object        \n",
      " 20  Propertycount  34854 non-null  float64       \n",
      " 21  Year           34857 non-null  int64         \n",
      " 22  Month          34857 non-null  int64         \n",
      "dtypes: datetime64[ns](1), float64(11), int64(3), object(8)\n",
      "memory usage: 6.1+ MB\n"
     ]
    }
   ],
   "source": [
    "df.info()"
   ]
  },
  {
   "cell_type": "code",
   "execution_count": 9,
   "metadata": {},
   "outputs": [
    {
     "data": {
      "text/plain": [
       "<seaborn.axisgrid.FacetGrid at 0x1a67b011d60>"
      ]
     },
     "execution_count": 9,
     "metadata": {},
     "output_type": "execute_result"
    },
    {
     "data": {
      "image/png": "[encoded data removed]",
      "text/plain": [
       "<Figure size 360x360 with 1 Axes>"
      ]
     },
     "metadata": {
      "needs_background": "light"
     },
     "output_type": "display_data"
    }
   ],
   "source": [
    "#lets check scatterplot Bedroom2 vs Price\n",
    "sns.lmplot(x='Bedroom2',y='Rooms',data=df)"
   ]
  },
  {
   "cell_type": "markdown",
   "metadata": {},
   "source": [
    "Here Bedroom2 is very similar to Rooms we can see that above the relationship is almost Perfectly linear and they 2 columns are almostly perfect match. so that I'll drop Bedroom2 in next step"
   ]
  },
  {
   "cell_type": "code",
   "execution_count": 10,
   "metadata": {},
   "outputs": [],
   "source": [
    "#drop the bedroom\n",
    "df.drop('Bedroom2',axis=1,inplace=True)"
   ]
  },
  {
   "cell_type": "code",
   "execution_count": 11,
   "metadata": {},
   "outputs": [],
   "source": [
    "#It looks like address is not much impacted on Price column so,we can drop it\n",
    "#drop address column\n",
    "df.drop('Address',axis=1,inplace=True)"
   ]
  },
  {
   "cell_type": "code",
   "execution_count": 12,
   "metadata": {},
   "outputs": [
    {
     "data": {
      "text/html": [
       "<div>\n",
       "<style scoped>\n",
       "    .dataframe tbody tr th:only-of-type {\n",
       "        vertical-align: middle;\n",
       "    }\n",
       "\n",
       "    .dataframe tbody tr th {\n",
       "        vertical-align: top;\n",
       "    }\n",
       "\n",
       "    .dataframe thead th {\n",
       "        text-align: right;\n",
       "    }\n",
       "</style>\n",
       "<table border=\"1\" class=\"dataframe\">\n",
       "  <thead>\n",
       "    <tr style=\"text-align: right;\">\n",
       "      <th></th>\n",
       "      <th>Suburb</th>\n",
       "      <th>Rooms</th>\n",
       "      <th>Type</th>\n",
       "      <th>Price</th>\n",
       "      <th>Method</th>\n",
       "      <th>SellerG</th>\n",
       "      <th>Date</th>\n",
       "      <th>Distance</th>\n",
       "      <th>Postcode</th>\n",
       "      <th>Bathroom</th>\n",
       "      <th>...</th>\n",
       "      <th>Landsize</th>\n",
       "      <th>BuildingArea</th>\n",
       "      <th>YearBuilt</th>\n",
       "      <th>CouncilArea</th>\n",
       "      <th>Lattitude</th>\n",
       "      <th>Longtitude</th>\n",
       "      <th>Regionname</th>\n",
       "      <th>Propertycount</th>\n",
       "      <th>Year</th>\n",
       "      <th>Month</th>\n",
       "    </tr>\n",
       "  </thead>\n",
       "  <tbody>\n",
       "    <tr>\n",
       "      <th>0</th>\n",
       "      <td>Abbotsford</td>\n",
       "      <td>2</td>\n",
       "      <td>h</td>\n",
       "      <td>NaN</td>\n",
       "      <td>SS</td>\n",
       "      <td>Jellis</td>\n",
       "      <td>2016-03-09</td>\n",
       "      <td>2.5</td>\n",
       "      <td>3067</td>\n",
       "      <td>1.0</td>\n",
       "      <td>...</td>\n",
       "      <td>126.0</td>\n",
       "      <td>NaN</td>\n",
       "      <td>NaN</td>\n",
       "      <td>Yarra City Council</td>\n",
       "      <td>-37.8014</td>\n",
       "      <td>144.9958</td>\n",
       "      <td>Northern Metropolitan</td>\n",
       "      <td>4019.0</td>\n",
       "      <td>2016</td>\n",
       "      <td>3</td>\n",
       "    </tr>\n",
       "    <tr>\n",
       "      <th>1</th>\n",
       "      <td>Abbotsford</td>\n",
       "      <td>2</td>\n",
       "      <td>h</td>\n",
       "      <td>1480000.0</td>\n",
       "      <td>S</td>\n",
       "      <td>Biggin</td>\n",
       "      <td>2016-03-12</td>\n",
       "      <td>2.5</td>\n",
       "      <td>3067</td>\n",
       "      <td>1.0</td>\n",
       "      <td>...</td>\n",
       "      <td>202.0</td>\n",
       "      <td>NaN</td>\n",
       "      <td>NaN</td>\n",
       "      <td>Yarra City Council</td>\n",
       "      <td>-37.7996</td>\n",
       "      <td>144.9984</td>\n",
       "      <td>Northern Metropolitan</td>\n",
       "      <td>4019.0</td>\n",
       "      <td>2016</td>\n",
       "      <td>3</td>\n",
       "    </tr>\n",
       "    <tr>\n",
       "      <th>2</th>\n",
       "      <td>Abbotsford</td>\n",
       "      <td>2</td>\n",
       "      <td>h</td>\n",
       "      <td>1035000.0</td>\n",
       "      <td>S</td>\n",
       "      <td>Biggin</td>\n",
       "      <td>2016-04-02</td>\n",
       "      <td>2.5</td>\n",
       "      <td>3067</td>\n",
       "      <td>1.0</td>\n",
       "      <td>...</td>\n",
       "      <td>156.0</td>\n",
       "      <td>79.0</td>\n",
       "      <td>1900.0</td>\n",
       "      <td>Yarra City Council</td>\n",
       "      <td>-37.8079</td>\n",
       "      <td>144.9934</td>\n",
       "      <td>Northern Metropolitan</td>\n",
       "      <td>4019.0</td>\n",
       "      <td>2016</td>\n",
       "      <td>4</td>\n",
       "    </tr>\n",
       "    <tr>\n",
       "      <th>3</th>\n",
       "      <td>Abbotsford</td>\n",
       "      <td>3</td>\n",
       "      <td>u</td>\n",
       "      <td>NaN</td>\n",
       "      <td>VB</td>\n",
       "      <td>Rounds</td>\n",
       "      <td>2016-04-02</td>\n",
       "      <td>2.5</td>\n",
       "      <td>3067</td>\n",
       "      <td>2.0</td>\n",
       "      <td>...</td>\n",
       "      <td>0.0</td>\n",
       "      <td>NaN</td>\n",
       "      <td>NaN</td>\n",
       "      <td>Yarra City Council</td>\n",
       "      <td>-37.8114</td>\n",
       "      <td>145.0116</td>\n",
       "      <td>Northern Metropolitan</td>\n",
       "      <td>4019.0</td>\n",
       "      <td>2016</td>\n",
       "      <td>4</td>\n",
       "    </tr>\n",
       "    <tr>\n",
       "      <th>4</th>\n",
       "      <td>Abbotsford</td>\n",
       "      <td>3</td>\n",
       "      <td>h</td>\n",
       "      <td>1465000.0</td>\n",
       "      <td>SP</td>\n",
       "      <td>Biggin</td>\n",
       "      <td>2017-04-03</td>\n",
       "      <td>2.5</td>\n",
       "      <td>3067</td>\n",
       "      <td>2.0</td>\n",
       "      <td>...</td>\n",
       "      <td>134.0</td>\n",
       "      <td>150.0</td>\n",
       "      <td>1900.0</td>\n",
       "      <td>Yarra City Council</td>\n",
       "      <td>-37.8093</td>\n",
       "      <td>144.9944</td>\n",
       "      <td>Northern Metropolitan</td>\n",
       "      <td>4019.0</td>\n",
       "      <td>2017</td>\n",
       "      <td>4</td>\n",
       "    </tr>\n",
       "  </tbody>\n",
       "</table>\n",
       "<p>5 rows × 21 columns</p>\n",
       "</div>"
      ],
      "text/plain": [
       "       Suburb  Rooms Type      Price Method SellerG       Date  Distance  \\\n",
       "0  Abbotsford      2    h        NaN     SS  Jellis 2016-03-09       2.5   \n",
       "1  Abbotsford      2    h  1480000.0      S  Biggin 2016-03-12       2.5   \n",
       "2  Abbotsford      2    h  1035000.0      S  Biggin 2016-04-02       2.5   \n",
       "3  Abbotsford      3    u        NaN     VB  Rounds 2016-04-02       2.5   \n",
       "4  Abbotsford      3    h  1465000.0     SP  Biggin 2017-04-03       2.5   \n",
       "\n",
       "  Postcode  Bathroom  ...  Landsize  BuildingArea  YearBuilt  \\\n",
       "0     3067       1.0  ...     126.0           NaN        NaN   \n",
       "1     3067       1.0  ...     202.0           NaN        NaN   \n",
       "2     3067       1.0  ...     156.0          79.0     1900.0   \n",
       "3     3067       2.0  ...       0.0           NaN        NaN   \n",
       "4     3067       2.0  ...     134.0         150.0     1900.0   \n",
       "\n",
       "          CouncilArea Lattitude  Longtitude             Regionname  \\\n",
       "0  Yarra City Council  -37.8014    144.9958  Northern Metropolitan   \n",
       "1  Yarra City Council  -37.7996    144.9984  Northern Metropolitan   \n",
       "2  Yarra City Council  -37.8079    144.9934  Northern Metropolitan   \n",
       "3  Yarra City Council  -37.8114    145.0116  Northern Metropolitan   \n",
       "4  Yarra City Council  -37.8093    144.9944  Northern Metropolitan   \n",
       "\n",
       "  Propertycount  Year  Month  \n",
       "0        4019.0  2016      3  \n",
       "1        4019.0  2016      3  \n",
       "2        4019.0  2016      4  \n",
       "3        4019.0  2016      4  \n",
       "4        4019.0  2017      4  \n",
       "\n",
       "[5 rows x 21 columns]"
      ]
     },
     "execution_count": 12,
     "metadata": {},
     "output_type": "execute_result"
    }
   ],
   "source": [
    "df.head()"
   ]
  },
  {
   "cell_type": "code",
   "execution_count": 13,
   "metadata": {},
   "outputs": [],
   "source": [
    "## Always remember there way always be a chance of data leakage so we need to split the data first and then apply feature\n",
    "## Engineering\n",
    "#we are taken test data has Price null values\n",
    "test_data=df[df['Price'].isnull()]"
   ]
  },
  {
   "cell_type": "code",
   "execution_count": 14,
   "metadata": {},
   "outputs": [],
   "source": [
    "#Here we taken train data has Price not null values\n",
    "train_data=df.dropna(subset=['Price'])"
   ]
  },
  {
   "cell_type": "code",
   "execution_count": 15,
   "metadata": {},
   "outputs": [
    {
     "data": {
      "text/plain": [
       "((27247, 21), (7610, 21))"
      ]
     },
     "execution_count": 15,
     "metadata": {},
     "output_type": "execute_result"
    }
   ],
   "source": [
    "#check the shape of train,test data\n",
    "train_data.shape,test_data.shape"
   ]
  },
  {
   "cell_type": "code",
   "execution_count": 16,
   "metadata": {},
   "outputs": [
    {
     "data": {
      "text/html": [
       "<div>\n",
       "<style scoped>\n",
       "    .dataframe tbody tr th:only-of-type {\n",
       "        vertical-align: middle;\n",
       "    }\n",
       "\n",
       "    .dataframe tbody tr th {\n",
       "        vertical-align: top;\n",
       "    }\n",
       "\n",
       "    .dataframe thead th {\n",
       "        text-align: right;\n",
       "    }\n",
       "</style>\n",
       "<table border=\"1\" class=\"dataframe\">\n",
       "  <thead>\n",
       "    <tr style=\"text-align: right;\">\n",
       "      <th></th>\n",
       "      <th>Suburb</th>\n",
       "      <th>Rooms</th>\n",
       "      <th>Type</th>\n",
       "      <th>Price</th>\n",
       "      <th>Method</th>\n",
       "      <th>SellerG</th>\n",
       "      <th>Date</th>\n",
       "      <th>Distance</th>\n",
       "      <th>Postcode</th>\n",
       "      <th>Bathroom</th>\n",
       "      <th>...</th>\n",
       "      <th>Landsize</th>\n",
       "      <th>BuildingArea</th>\n",
       "      <th>YearBuilt</th>\n",
       "      <th>CouncilArea</th>\n",
       "      <th>Lattitude</th>\n",
       "      <th>Longtitude</th>\n",
       "      <th>Regionname</th>\n",
       "      <th>Propertycount</th>\n",
       "      <th>Year</th>\n",
       "      <th>Month</th>\n",
       "    </tr>\n",
       "  </thead>\n",
       "  <tbody>\n",
       "    <tr>\n",
       "      <th>1</th>\n",
       "      <td>Abbotsford</td>\n",
       "      <td>2</td>\n",
       "      <td>h</td>\n",
       "      <td>1480000.0</td>\n",
       "      <td>S</td>\n",
       "      <td>Biggin</td>\n",
       "      <td>2016-03-12</td>\n",
       "      <td>2.5</td>\n",
       "      <td>3067</td>\n",
       "      <td>1.0</td>\n",
       "      <td>...</td>\n",
       "      <td>202.0</td>\n",
       "      <td>NaN</td>\n",
       "      <td>NaN</td>\n",
       "      <td>Yarra City Council</td>\n",
       "      <td>-37.7996</td>\n",
       "      <td>144.9984</td>\n",
       "      <td>Northern Metropolitan</td>\n",
       "      <td>4019.0</td>\n",
       "      <td>2016</td>\n",
       "      <td>3</td>\n",
       "    </tr>\n",
       "    <tr>\n",
       "      <th>2</th>\n",
       "      <td>Abbotsford</td>\n",
       "      <td>2</td>\n",
       "      <td>h</td>\n",
       "      <td>1035000.0</td>\n",
       "      <td>S</td>\n",
       "      <td>Biggin</td>\n",
       "      <td>2016-04-02</td>\n",
       "      <td>2.5</td>\n",
       "      <td>3067</td>\n",
       "      <td>1.0</td>\n",
       "      <td>...</td>\n",
       "      <td>156.0</td>\n",
       "      <td>79.0</td>\n",
       "      <td>1900.0</td>\n",
       "      <td>Yarra City Council</td>\n",
       "      <td>-37.8079</td>\n",
       "      <td>144.9934</td>\n",
       "      <td>Northern Metropolitan</td>\n",
       "      <td>4019.0</td>\n",
       "      <td>2016</td>\n",
       "      <td>4</td>\n",
       "    </tr>\n",
       "    <tr>\n",
       "      <th>4</th>\n",
       "      <td>Abbotsford</td>\n",
       "      <td>3</td>\n",
       "      <td>h</td>\n",
       "      <td>1465000.0</td>\n",
       "      <td>SP</td>\n",
       "      <td>Biggin</td>\n",
       "      <td>2017-04-03</td>\n",
       "      <td>2.5</td>\n",
       "      <td>3067</td>\n",
       "      <td>2.0</td>\n",
       "      <td>...</td>\n",
       "      <td>134.0</td>\n",
       "      <td>150.0</td>\n",
       "      <td>1900.0</td>\n",
       "      <td>Yarra City Council</td>\n",
       "      <td>-37.8093</td>\n",
       "      <td>144.9944</td>\n",
       "      <td>Northern Metropolitan</td>\n",
       "      <td>4019.0</td>\n",
       "      <td>2017</td>\n",
       "      <td>4</td>\n",
       "    </tr>\n",
       "    <tr>\n",
       "      <th>5</th>\n",
       "      <td>Abbotsford</td>\n",
       "      <td>3</td>\n",
       "      <td>h</td>\n",
       "      <td>850000.0</td>\n",
       "      <td>PI</td>\n",
       "      <td>Biggin</td>\n",
       "      <td>2017-04-03</td>\n",
       "      <td>2.5</td>\n",
       "      <td>3067</td>\n",
       "      <td>2.0</td>\n",
       "      <td>...</td>\n",
       "      <td>94.0</td>\n",
       "      <td>NaN</td>\n",
       "      <td>NaN</td>\n",
       "      <td>Yarra City Council</td>\n",
       "      <td>-37.7969</td>\n",
       "      <td>144.9969</td>\n",
       "      <td>Northern Metropolitan</td>\n",
       "      <td>4019.0</td>\n",
       "      <td>2017</td>\n",
       "      <td>4</td>\n",
       "    </tr>\n",
       "    <tr>\n",
       "      <th>6</th>\n",
       "      <td>Abbotsford</td>\n",
       "      <td>4</td>\n",
       "      <td>h</td>\n",
       "      <td>1600000.0</td>\n",
       "      <td>VB</td>\n",
       "      <td>Nelson</td>\n",
       "      <td>2016-04-06</td>\n",
       "      <td>2.5</td>\n",
       "      <td>3067</td>\n",
       "      <td>1.0</td>\n",
       "      <td>...</td>\n",
       "      <td>120.0</td>\n",
       "      <td>142.0</td>\n",
       "      <td>2014.0</td>\n",
       "      <td>Yarra City Council</td>\n",
       "      <td>-37.8072</td>\n",
       "      <td>144.9941</td>\n",
       "      <td>Northern Metropolitan</td>\n",
       "      <td>4019.0</td>\n",
       "      <td>2016</td>\n",
       "      <td>4</td>\n",
       "    </tr>\n",
       "  </tbody>\n",
       "</table>\n",
       "<p>5 rows × 21 columns</p>\n",
       "</div>"
      ],
      "text/plain": [
       "       Suburb  Rooms Type      Price Method SellerG       Date  Distance  \\\n",
       "1  Abbotsford      2    h  1480000.0      S  Biggin 2016-03-12       2.5   \n",
       "2  Abbotsford      2    h  1035000.0      S  Biggin 2016-04-02       2.5   \n",
       "4  Abbotsford      3    h  1465000.0     SP  Biggin 2017-04-03       2.5   \n",
       "5  Abbotsford      3    h   850000.0     PI  Biggin 2017-04-03       2.5   \n",
       "6  Abbotsford      4    h  1600000.0     VB  Nelson 2016-04-06       2.5   \n",
       "\n",
       "  Postcode  Bathroom  ...  Landsize  BuildingArea  YearBuilt  \\\n",
       "1     3067       1.0  ...     202.0           NaN        NaN   \n",
       "2     3067       1.0  ...     156.0          79.0     1900.0   \n",
       "4     3067       2.0  ...     134.0         150.0     1900.0   \n",
       "5     3067       2.0  ...      94.0           NaN        NaN   \n",
       "6     3067       1.0  ...     120.0         142.0     2014.0   \n",
       "\n",
       "          CouncilArea Lattitude  Longtitude             Regionname  \\\n",
       "1  Yarra City Council  -37.7996    144.9984  Northern Metropolitan   \n",
       "2  Yarra City Council  -37.8079    144.9934  Northern Metropolitan   \n",
       "4  Yarra City Council  -37.8093    144.9944  Northern Metropolitan   \n",
       "5  Yarra City Council  -37.7969    144.9969  Northern Metropolitan   \n",
       "6  Yarra City Council  -37.8072    144.9941  Northern Metropolitan   \n",
       "\n",
       "  Propertycount  Year  Month  \n",
       "1        4019.0  2016      3  \n",
       "2        4019.0  2016      4  \n",
       "4        4019.0  2017      4  \n",
       "5        4019.0  2017      4  \n",
       "6        4019.0  2016      4  \n",
       "\n",
       "[5 rows x 21 columns]"
      ]
     },
     "execution_count": 16,
     "metadata": {},
     "output_type": "execute_result"
    }
   ],
   "source": [
    "train_data.head()"
   ]
  },
  {
   "cell_type": "markdown",
   "metadata": {},
   "source": [
    "# Data Cleaning"
   ]
  },
  {
   "cell_type": "code",
   "execution_count": 17,
   "metadata": {},
   "outputs": [
    {
     "data": {
      "text/plain": [
       "Suburb            0.000000\n",
       "Rooms             0.000000\n",
       "Type              0.000000\n",
       "Price             0.000000\n",
       "Method            0.000000\n",
       "SellerG           0.000000\n",
       "Date              0.000000\n",
       "Distance          0.003670\n",
       "Postcode          0.003670\n",
       "Bathroom         23.661321\n",
       "Car              25.044959\n",
       "Landsize         34.003744\n",
       "BuildingArea     60.891107\n",
       "YearBuilt        55.650163\n",
       "CouncilArea       0.011010\n",
       "Lattitude        22.952986\n",
       "Longtitude       22.952986\n",
       "Regionname        0.011010\n",
       "Propertycount     0.011010\n",
       "Year              0.000000\n",
       "Month             0.000000\n",
       "dtype: float64"
      ]
     },
     "execution_count": 17,
     "metadata": {},
     "output_type": "execute_result"
    }
   ],
   "source": [
    "#check the percentage of missing values\n",
    "(train_data.isnull().sum()/len(train_data))*100"
   ]
  },
  {
   "cell_type": "code",
   "execution_count": 18,
   "metadata": {},
   "outputs": [
    {
     "data": {
      "text/plain": [
       "['Suburb',\n",
       " 'Type',\n",
       " 'Method',\n",
       " 'SellerG',\n",
       " 'Postcode',\n",
       " 'CouncilArea',\n",
       " 'Regionname']"
      ]
     },
     "execution_count": 18,
     "metadata": {},
     "output_type": "execute_result"
    }
   ],
   "source": [
    "#list of categorical features\n",
    "categorical_features=[feature for feature in train_data.columns if train_data[feature].dtypes=='O']\n",
    "categorical_features"
   ]
  },
  {
   "cell_type": "code",
   "execution_count": 19,
   "metadata": {},
   "outputs": [
    {
     "data": {
      "text/plain": [
       "Suburb         0\n",
       "Type           0\n",
       "Method         0\n",
       "SellerG        0\n",
       "Postcode       1\n",
       "CouncilArea    3\n",
       "Regionname     3\n",
       "dtype: int64"
      ]
     },
     "execution_count": 19,
     "metadata": {},
     "output_type": "execute_result"
    }
   ],
   "source": [
    "#checking categorical features of missing values\n",
    "train_data[categorical_features].isnull().sum()"
   ]
  },
  {
   "cell_type": "code",
   "execution_count": 20,
   "metadata": {},
   "outputs": [],
   "source": [
    "#missing value imputation\n",
    "train_data['Postcode'].fillna(train_data['Postcode'].mode()[0],inplace=True)\n",
    "train_data['CouncilArea'].fillna(train_data['CouncilArea'].mode()[0],inplace=True)\n",
    "train_data['Regionname'].fillna(train_data['Regionname'].mode()[0],inplace=True)"
   ]
  },
  {
   "cell_type": "code",
   "execution_count": 21,
   "metadata": {},
   "outputs": [
    {
     "data": {
      "text/plain": [
       "['Rooms',\n",
       " 'Price',\n",
       " 'Date',\n",
       " 'Distance',\n",
       " 'Postcode',\n",
       " 'Bathroom',\n",
       " 'Car',\n",
       " 'Landsize',\n",
       " 'BuildingArea',\n",
       " 'YearBuilt',\n",
       " 'Lattitude',\n",
       " 'Longtitude',\n",
       " 'Propertycount',\n",
       " 'Year',\n",
       " 'Month']"
      ]
     },
     "execution_count": 21,
     "metadata": {},
     "output_type": "execute_result"
    }
   ],
   "source": [
    "#list of numerical features\n",
    "numerical_features=[feature for feature in train_data.columns if train_data[feature].dtypes!='O']\n",
    "numerical_features"
   ]
  },
  {
   "cell_type": "code",
   "execution_count": 22,
   "metadata": {},
   "outputs": [
    {
     "data": {
      "text/plain": [
       "Rooms                0\n",
       "Price                0\n",
       "Date                 0\n",
       "Distance             1\n",
       "Postcode             0\n",
       "Bathroom          6447\n",
       "Car               6824\n",
       "Landsize          9265\n",
       "BuildingArea     16591\n",
       "YearBuilt        15163\n",
       "Lattitude         6254\n",
       "Longtitude        6254\n",
       "Propertycount        3\n",
       "Year                 0\n",
       "Month                0\n",
       "dtype: int64"
      ]
     },
     "execution_count": 22,
     "metadata": {},
     "output_type": "execute_result"
    }
   ],
   "source": [
    "#checking missing values of numerical_features\n",
    "train_data[numerical_features].isnull().sum()"
   ]
  },
  {
   "cell_type": "code",
   "execution_count": 23,
   "metadata": {},
   "outputs": [
    {
     "name": "stdout",
     "output_type": "stream",
     "text": [
      "Discrete Variables Count: 5\n"
     ]
    },
    {
     "data": {
      "text/plain": [
       "['Rooms', 'Bathroom', 'Car', 'Year', 'Month']"
      ]
     },
     "execution_count": 23,
     "metadata": {},
     "output_type": "execute_result"
    }
   ],
   "source": [
    "## Numerical variables are usually of 2 type\n",
    "## 1. Continous variable and Discrete Variables\n",
    "##Discrete Variables\n",
    "discrete_feature=[feature for feature in numerical_features if len(train_data[feature].unique())<25]\n",
    "print(\"Discrete Variables Count: {}\".format(len(discrete_feature)))\n",
    "discrete_feature"
   ]
  },
  {
   "cell_type": "code",
   "execution_count": 24,
   "metadata": {},
   "outputs": [
    {
     "data": {
      "text/plain": [
       "Rooms          0\n",
       "Bathroom    6447\n",
       "Car         6824\n",
       "Year           0\n",
       "Month          0\n",
       "dtype: int64"
      ]
     },
     "execution_count": 24,
     "metadata": {},
     "output_type": "execute_result"
    }
   ],
   "source": [
    "#check discrete data missing values\n",
    "train_data[discrete_feature].isnull().sum()"
   ]
  },
  {
   "cell_type": "code",
   "execution_count": 25,
   "metadata": {},
   "outputs": [
    {
     "name": "stdout",
     "output_type": "stream",
     "text": [
      "1.0    10527\n",
      "2.0     8464\n",
      "3.0     1537\n",
      "4.0      176\n",
      "5.0       46\n",
      "0.0       34\n",
      "6.0       10\n",
      "8.0        3\n",
      "7.0        2\n",
      "9.0        1\n",
      "Name: Bathroom, dtype: int64\n",
      "2.0     9367\n",
      "1.0     7400\n",
      "0.0     1251\n",
      "3.0     1234\n",
      "4.0      907\n",
      "5.0      113\n",
      "6.0      105\n",
      "7.0       19\n",
      "8.0       18\n",
      "10.0       5\n",
      "9.0        2\n",
      "11.0       1\n",
      "18.0       1\n",
      "Name: Car, dtype: int64\n"
     ]
    }
   ],
   "source": [
    "#print bathroom and Car value_counts\n",
    "print(train_data['Bathroom'].value_counts())\n",
    "print(train_data['Car'].value_counts())"
   ]
  },
  {
   "cell_type": "code",
   "execution_count": 26,
   "metadata": {},
   "outputs": [],
   "source": [
    "#fill the missing values with mode\n",
    "train_data['Bathroom'].fillna(train_data['Bathroom'].mode()[0],inplace=True)\n",
    "train_data['Car'].fillna(train_data['Car'].mode()[0],inplace=True)"
   ]
  },
  {
   "cell_type": "code",
   "execution_count": 27,
   "metadata": {},
   "outputs": [
    {
     "name": "stdout",
     "output_type": "stream",
     "text": [
      "Continuous feature Count 10\n"
     ]
    },
    {
     "data": {
      "text/plain": [
       "['Price',\n",
       " 'Date',\n",
       " 'Distance',\n",
       " 'Postcode',\n",
       " 'Landsize',\n",
       " 'BuildingArea',\n",
       " 'YearBuilt',\n",
       " 'Lattitude',\n",
       " 'Longtitude',\n",
       " 'Propertycount']"
      ]
     },
     "execution_count": 27,
     "metadata": {},
     "output_type": "execute_result"
    }
   ],
   "source": [
    "###continuous feature\n",
    "continuous_feature=[feature for feature in numerical_features if feature not in discrete_feature]\n",
    "print(\"Continuous feature Count {}\".format(len(continuous_feature)))\n",
    "continuous_feature"
   ]
  },
  {
   "cell_type": "code",
   "execution_count": 28,
   "metadata": {},
   "outputs": [
    {
     "data": {
      "text/plain": [
       "Price                0\n",
       "Date                 0\n",
       "Distance             1\n",
       "Postcode             0\n",
       "Landsize          9265\n",
       "BuildingArea     16591\n",
       "YearBuilt        15163\n",
       "Lattitude         6254\n",
       "Longtitude        6254\n",
       "Propertycount        3\n",
       "dtype: int64"
      ]
     },
     "execution_count": 28,
     "metadata": {},
     "output_type": "execute_result"
    }
   ],
   "source": [
    "#check the missing values\n",
    "train_data[continuous_feature].isnull().sum()"
   ]
  },
  {
   "cell_type": "code",
   "execution_count": 29,
   "metadata": {},
   "outputs": [],
   "source": [
    "#Here Yearbuilt and BuildingArea has 50% values of missing. So we can drop 2 columns and also this 2 columns not much impacted on Price\n",
    "train_data.drop(['BuildingArea','YearBuilt'],axis=1,inplace=True)"
   ]
  },
  {
   "cell_type": "code",
   "execution_count": 30,
   "metadata": {},
   "outputs": [],
   "source": [
    "#we can fill the continuous features with median values\n",
    "train_data['Distance'].fillna(train_data['Distance'].median(),inplace=True)\n",
    "train_data['Landsize'].fillna(train_data['Landsize'].median(),inplace=True)\n",
    "train_data['Lattitude'].fillna(train_data['Lattitude'].median(),inplace=True)\n",
    "train_data['Longtitude'].fillna(train_data['Longtitude'].median(),inplace=True)\n",
    "train_data['Propertycount'].fillna(train_data['Propertycount'].median(),inplace=True)"
   ]
  },
  {
   "cell_type": "code",
   "execution_count": 31,
   "metadata": {},
   "outputs": [
    {
     "name": "stdout",
     "output_type": "stream",
     "text": [
      "<class 'pandas.core.frame.DataFrame'>\n",
      "Int64Index: 27247 entries, 1 to 34856\n",
      "Data columns (total 19 columns):\n",
      " #   Column         Non-Null Count  Dtype         \n",
      "---  ------         --------------  -----         \n",
      " 0   Suburb         27247 non-null  object        \n",
      " 1   Rooms          27247 non-null  int64         \n",
      " 2   Type           27247 non-null  object        \n",
      " 3   Price          27247 non-null  float64       \n",
      " 4   Method         27247 non-null  object        \n",
      " 5   SellerG        27247 non-null  object        \n",
      " 6   Date           27247 non-null  datetime64[ns]\n",
      " 7   Distance       27247 non-null  float64       \n",
      " 8   Postcode       27247 non-null  float64       \n",
      " 9   Bathroom       27247 non-null  float64       \n",
      " 10  Car            27247 non-null  float64       \n",
      " 11  Landsize       27247 non-null  float64       \n",
      " 12  CouncilArea    27247 non-null  object        \n",
      " 13  Lattitude      27247 non-null  float64       \n",
      " 14  Longtitude     27247 non-null  float64       \n",
      " 15  Regionname     27247 non-null  object        \n",
      " 16  Propertycount  27247 non-null  float64       \n",
      " 17  Year           27247 non-null  int64         \n",
      " 18  Month          27247 non-null  int64         \n",
      "dtypes: datetime64[ns](1), float64(9), int64(3), object(6)\n",
      "memory usage: 4.2+ MB\n"
     ]
    }
   ],
   "source": [
    "train_data.info()"
   ]
  },
  {
   "cell_type": "code",
   "execution_count": 32,
   "metadata": {},
   "outputs": [
    {
     "data": {
      "image/png": "[encoded data removed]",
      "text/plain": [
       "<Figure size 720x360 with 2 Axes>"
      ]
     },
     "metadata": {
      "needs_background": "light"
     },
     "output_type": "display_data"
    }
   ],
   "source": [
    "#check correlation among variables\n",
    "corrmat=train_data.corr()\n",
    "top_corr_features=corrmat.index\n",
    "plt.figure(figsize=(10,5))\n",
    "sns.heatmap(train_data[top_corr_features].corr(),annot=True,cmap='RdYlGn')\n",
    "plt.show()"
   ]
  },
  {
   "cell_type": "code",
   "execution_count": 33,
   "metadata": {},
   "outputs": [
    {
     "name": "stdout",
     "output_type": "stream",
     "text": [
      "345\n",
      "349\n"
     ]
    }
   ],
   "source": [
    "#check categorical variable of Suburb and SellerG Unique values\n",
    "print(len(train_data['Suburb'].unique()))\n",
    "print(len(train_data['SellerG'].unique()))"
   ]
  },
  {
   "cell_type": "markdown",
   "metadata": {},
   "source": [
    "Here we can see above Suburb,SellerG have high unique values and it leads to high Cardinality"
   ]
  },
  {
   "cell_type": "code",
   "execution_count": 34,
   "metadata": {},
   "outputs": [],
   "source": [
    "#Here drop Categorical Columns\n",
    "train_data.drop(['Suburb','SellerG','CouncilArea','Date','Method'],axis=1,inplace=True)"
   ]
  },
  {
   "cell_type": "code",
   "execution_count": 35,
   "metadata": {},
   "outputs": [],
   "source": [
    "#from sklearn.preprocessing import LabelEncoder\n",
    "#le = LabelEncoder()"
   ]
  },
  {
   "cell_type": "code",
   "execution_count": 36,
   "metadata": {},
   "outputs": [],
   "source": [
    "#Here we convert categorical data into numerical data\n",
    "train_data=pd.get_dummies(train_data,drop_first=True)"
   ]
  },
  {
   "cell_type": "code",
   "execution_count": 37,
   "metadata": {},
   "outputs": [
    {
     "data": {
      "text/html": [
       "<div>\n",
       "<style scoped>\n",
       "    .dataframe tbody tr th:only-of-type {\n",
       "        vertical-align: middle;\n",
       "    }\n",
       "\n",
       "    .dataframe tbody tr th {\n",
       "        vertical-align: top;\n",
       "    }\n",
       "\n",
       "    .dataframe thead th {\n",
       "        text-align: right;\n",
       "    }\n",
       "</style>\n",
       "<table border=\"1\" class=\"dataframe\">\n",
       "  <thead>\n",
       "    <tr style=\"text-align: right;\">\n",
       "      <th></th>\n",
       "      <th>Rooms</th>\n",
       "      <th>Price</th>\n",
       "      <th>Distance</th>\n",
       "      <th>Postcode</th>\n",
       "      <th>Bathroom</th>\n",
       "      <th>Car</th>\n",
       "      <th>Landsize</th>\n",
       "      <th>Lattitude</th>\n",
       "      <th>Longtitude</th>\n",
       "      <th>Propertycount</th>\n",
       "      <th>...</th>\n",
       "      <th>Month</th>\n",
       "      <th>Type_t</th>\n",
       "      <th>Type_u</th>\n",
       "      <th>Regionname_Eastern Victoria</th>\n",
       "      <th>Regionname_Northern Metropolitan</th>\n",
       "      <th>Regionname_Northern Victoria</th>\n",
       "      <th>Regionname_South-Eastern Metropolitan</th>\n",
       "      <th>Regionname_Southern Metropolitan</th>\n",
       "      <th>Regionname_Western Metropolitan</th>\n",
       "      <th>Regionname_Western Victoria</th>\n",
       "    </tr>\n",
       "  </thead>\n",
       "  <tbody>\n",
       "    <tr>\n",
       "      <th>1</th>\n",
       "      <td>2</td>\n",
       "      <td>1480000.0</td>\n",
       "      <td>2.5</td>\n",
       "      <td>3067.0</td>\n",
       "      <td>1.0</td>\n",
       "      <td>1.0</td>\n",
       "      <td>202.0</td>\n",
       "      <td>-37.7996</td>\n",
       "      <td>144.9984</td>\n",
       "      <td>4019.0</td>\n",
       "      <td>...</td>\n",
       "      <td>3</td>\n",
       "      <td>0</td>\n",
       "      <td>0</td>\n",
       "      <td>0</td>\n",
       "      <td>1</td>\n",
       "      <td>0</td>\n",
       "      <td>0</td>\n",
       "      <td>0</td>\n",
       "      <td>0</td>\n",
       "      <td>0</td>\n",
       "    </tr>\n",
       "    <tr>\n",
       "      <th>2</th>\n",
       "      <td>2</td>\n",
       "      <td>1035000.0</td>\n",
       "      <td>2.5</td>\n",
       "      <td>3067.0</td>\n",
       "      <td>1.0</td>\n",
       "      <td>0.0</td>\n",
       "      <td>156.0</td>\n",
       "      <td>-37.8079</td>\n",
       "      <td>144.9934</td>\n",
       "      <td>4019.0</td>\n",
       "      <td>...</td>\n",
       "      <td>4</td>\n",
       "      <td>0</td>\n",
       "      <td>0</td>\n",
       "      <td>0</td>\n",
       "      <td>1</td>\n",
       "      <td>0</td>\n",
       "      <td>0</td>\n",
       "      <td>0</td>\n",
       "      <td>0</td>\n",
       "      <td>0</td>\n",
       "    </tr>\n",
       "    <tr>\n",
       "      <th>4</th>\n",
       "      <td>3</td>\n",
       "      <td>1465000.0</td>\n",
       "      <td>2.5</td>\n",
       "      <td>3067.0</td>\n",
       "      <td>2.0</td>\n",
       "      <td>0.0</td>\n",
       "      <td>134.0</td>\n",
       "      <td>-37.8093</td>\n",
       "      <td>144.9944</td>\n",
       "      <td>4019.0</td>\n",
       "      <td>...</td>\n",
       "      <td>4</td>\n",
       "      <td>0</td>\n",
       "      <td>0</td>\n",
       "      <td>0</td>\n",
       "      <td>1</td>\n",
       "      <td>0</td>\n",
       "      <td>0</td>\n",
       "      <td>0</td>\n",
       "      <td>0</td>\n",
       "      <td>0</td>\n",
       "    </tr>\n",
       "    <tr>\n",
       "      <th>5</th>\n",
       "      <td>3</td>\n",
       "      <td>850000.0</td>\n",
       "      <td>2.5</td>\n",
       "      <td>3067.0</td>\n",
       "      <td>2.0</td>\n",
       "      <td>1.0</td>\n",
       "      <td>94.0</td>\n",
       "      <td>-37.7969</td>\n",
       "      <td>144.9969</td>\n",
       "      <td>4019.0</td>\n",
       "      <td>...</td>\n",
       "      <td>4</td>\n",
       "      <td>0</td>\n",
       "      <td>0</td>\n",
       "      <td>0</td>\n",
       "      <td>1</td>\n",
       "      <td>0</td>\n",
       "      <td>0</td>\n",
       "      <td>0</td>\n",
       "      <td>0</td>\n",
       "      <td>0</td>\n",
       "    </tr>\n",
       "    <tr>\n",
       "      <th>6</th>\n",
       "      <td>4</td>\n",
       "      <td>1600000.0</td>\n",
       "      <td>2.5</td>\n",
       "      <td>3067.0</td>\n",
       "      <td>1.0</td>\n",
       "      <td>2.0</td>\n",
       "      <td>120.0</td>\n",
       "      <td>-37.8072</td>\n",
       "      <td>144.9941</td>\n",
       "      <td>4019.0</td>\n",
       "      <td>...</td>\n",
       "      <td>4</td>\n",
       "      <td>0</td>\n",
       "      <td>0</td>\n",
       "      <td>0</td>\n",
       "      <td>1</td>\n",
       "      <td>0</td>\n",
       "      <td>0</td>\n",
       "      <td>0</td>\n",
       "      <td>0</td>\n",
       "      <td>0</td>\n",
       "    </tr>\n",
       "  </tbody>\n",
       "</table>\n",
       "<p>5 rows × 21 columns</p>\n",
       "</div>"
      ],
      "text/plain": [
       "   Rooms      Price  Distance  Postcode  Bathroom  Car  Landsize  Lattitude  \\\n",
       "1      2  1480000.0       2.5    3067.0       1.0  1.0     202.0   -37.7996   \n",
       "2      2  1035000.0       2.5    3067.0       1.0  0.0     156.0   -37.8079   \n",
       "4      3  1465000.0       2.5    3067.0       2.0  0.0     134.0   -37.8093   \n",
       "5      3   850000.0       2.5    3067.0       2.0  1.0      94.0   -37.7969   \n",
       "6      4  1600000.0       2.5    3067.0       1.0  2.0     120.0   -37.8072   \n",
       "\n",
       "   Longtitude  Propertycount  ...  Month  Type_t  Type_u  \\\n",
       "1    144.9984         4019.0  ...      3       0       0   \n",
       "2    144.9934         4019.0  ...      4       0       0   \n",
       "4    144.9944         4019.0  ...      4       0       0   \n",
       "5    144.9969         4019.0  ...      4       0       0   \n",
       "6    144.9941         4019.0  ...      4       0       0   \n",
       "\n",
       "   Regionname_Eastern Victoria  Regionname_Northern Metropolitan  \\\n",
       "1                            0                                 1   \n",
       "2                            0                                 1   \n",
       "4                            0                                 1   \n",
       "5                            0                                 1   \n",
       "6                            0                                 1   \n",
       "\n",
       "   Regionname_Northern Victoria  Regionname_South-Eastern Metropolitan  \\\n",
       "1                             0                                      0   \n",
       "2                             0                                      0   \n",
       "4                             0                                      0   \n",
       "5                             0                                      0   \n",
       "6                             0                                      0   \n",
       "\n",
       "   Regionname_Southern Metropolitan  Regionname_Western Metropolitan  \\\n",
       "1                                 0                                0   \n",
       "2                                 0                                0   \n",
       "4                                 0                                0   \n",
       "5                                 0                                0   \n",
       "6                                 0                                0   \n",
       "\n",
       "   Regionname_Western Victoria  \n",
       "1                            0  \n",
       "2                            0  \n",
       "4                            0  \n",
       "5                            0  \n",
       "6                            0  \n",
       "\n",
       "[5 rows x 21 columns]"
      ]
     },
     "execution_count": 37,
     "metadata": {},
     "output_type": "execute_result"
    }
   ],
   "source": [
    "train_data.head()"
   ]
  },
  {
   "cell_type": "code",
   "execution_count": 38,
   "metadata": {},
   "outputs": [
    {
     "data": {
      "image/png": "[encoded data removed]",
      "text/plain": [
       "<Figure size 1080x864 with 2 Axes>"
      ]
     },
     "metadata": {
      "needs_background": "light"
     },
     "output_type": "display_data"
    }
   ],
   "source": [
    "##Checking for feature correlations\n",
    "corrmat=train_data.corr()\n",
    "top_corr_features=corrmat.index\n",
    "plt.figure(figsize=(15,12))\n",
    "plt.title('Correlation of all the Features of House Prices', fontsize=18)\n",
    "sns.heatmap(train_data[top_corr_features].corr(),annot=True)\n",
    "plt.show()"
   ]
  },
  {
   "cell_type": "code",
   "execution_count": 39,
   "metadata": {},
   "outputs": [],
   "source": [
    "#we can assign the train_data into X,y\n",
    "X=train_data.drop('Price',axis=1)\n",
    "y=train_data['Price']"
   ]
  },
  {
   "cell_type": "code",
   "execution_count": 40,
   "metadata": {},
   "outputs": [
    {
     "data": {
      "text/plain": [
       "((27247, 20), (27247,))"
      ]
     },
     "execution_count": 40,
     "metadata": {},
     "output_type": "execute_result"
    }
   ],
   "source": [
    "X.shape,y.shape"
   ]
  },
  {
   "cell_type": "markdown",
   "metadata": {},
   "source": [
    "# Feature Selection"
   ]
  },
  {
   "cell_type": "markdown",
   "metadata": {},
   "source": [
    "## 1.ExtraTreesRegressor"
   ]
  },
  {
   "cell_type": "code",
   "execution_count": 41,
   "metadata": {},
   "outputs": [
    {
     "data": {
      "text/plain": [
       "ExtraTreesRegressor()"
      ]
     },
     "execution_count": 41,
     "metadata": {},
     "output_type": "execute_result"
    }
   ],
   "source": [
    "##feature importance\n",
    "from sklearn.ensemble import ExtraTreesRegressor\n",
    "model=ExtraTreesRegressor()\n",
    "model.fit(X,y)"
   ]
  },
  {
   "cell_type": "code",
   "execution_count": 42,
   "metadata": {},
   "outputs": [
    {
     "name": "stdout",
     "output_type": "stream",
     "text": [
      "[1.01534251e-01 1.13761090e-01 4.39138016e-02 6.46396166e-02\n",
      " 2.31354369e-02 6.16245540e-02 4.84889261e-02 5.22075940e-02\n",
      " 3.41621498e-02 1.77054877e-02 3.35186046e-02 3.58293057e-02\n",
      " 2.11671128e-01 8.81039717e-05 9.87468191e-03 1.08942963e-04\n",
      " 1.10445720e-03 1.38490975e-01 7.89045277e-03 2.50440543e-04]\n"
     ]
    }
   ],
   "source": [
    "print(model.feature_importances_)"
   ]
  },
  {
   "cell_type": "code",
   "execution_count": 43,
   "metadata": {},
   "outputs": [
    {
     "data": {
      "image/png": "[encoded data removed]",
      "text/plain": [
       "<Figure size 432x288 with 1 Axes>"
      ]
     },
     "metadata": {
      "needs_background": "light"
     },
     "output_type": "display_data"
    }
   ],
   "source": [
    "#plot graph feature_imporatances \n",
    "feat_imporatances=pd.Series(model.feature_importances_,index=X.columns)\n",
    "feat_imporatances.nlargest(10).plot(kind='barh')\n",
    "plt.show()"
   ]
  },
  {
   "cell_type": "markdown",
   "metadata": {},
   "source": [
    "## 2.Recrusive Feature Elimination"
   ]
  },
  {
   "cell_type": "code",
   "execution_count": 44,
   "metadata": {},
   "outputs": [],
   "source": [
    "#Reorted which feature were selected by Recrusive Feature Elimination(RFE)\n",
    "from sklearn.feature_selection import RFE\n",
    "from sklearn.tree import DecisionTreeRegressor"
   ]
  },
  {
   "cell_type": "code",
   "execution_count": 45,
   "metadata": {},
   "outputs": [
    {
     "data": {
      "text/plain": [
       "RFE(estimator=DecisionTreeRegressor(), n_features_to_select=5)"
      ]
     },
     "execution_count": 45,
     "metadata": {},
     "output_type": "execute_result"
    }
   ],
   "source": [
    "rfe=RFE(estimator=DecisionTreeRegressor(),n_features_to_select=5)\n",
    "rfe.fit(X,y)"
   ]
  },
  {
   "cell_type": "code",
   "execution_count": 46,
   "metadata": {},
   "outputs": [
    {
     "name": "stdout",
     "output_type": "stream",
     "text": [
      "Column: 0,Selected=True,Rank: 1\n",
      "Column: 1,Selected=True,Rank: 1\n",
      "Column: 2,Selected=False,Rank: 6\n",
      "Column: 3,Selected=False,Rank: 7\n",
      "Column: 4,Selected=False,Rank: 9\n",
      "Column: 5,Selected=True,Rank: 1\n",
      "Column: 6,Selected=False,Rank: 2\n",
      "Column: 7,Selected=True,Rank: 1\n",
      "Column: 8,Selected=False,Rank: 4\n",
      "Column: 9,Selected=False,Rank: 10\n",
      "Column: 10,Selected=False,Rank: 5\n",
      "Column: 11,Selected=False,Rank: 8\n",
      "Column: 12,Selected=False,Rank: 3\n",
      "Column: 13,Selected=False,Rank: 15\n",
      "Column: 14,Selected=False,Rank: 11\n",
      "Column: 15,Selected=False,Rank: 14\n",
      "Column: 16,Selected=False,Rank: 13\n",
      "Column: 17,Selected=True,Rank: 1\n",
      "Column: 18,Selected=False,Rank: 12\n",
      "Column: 19,Selected=False,Rank: 16\n"
     ]
    }
   ],
   "source": [
    "#summarize all features\n",
    "for i in range(X.shape[1]):\n",
    "    print('Column: %d,Selected=%s,Rank: %d' %(i,rfe.support_[i],rfe.ranking_[i]) )"
   ]
  },
  {
   "cell_type": "code",
   "execution_count": 47,
   "metadata": {},
   "outputs": [],
   "source": [
    "#the data split into train_test_split\n",
    "from sklearn.model_selection import train_test_split\n",
    "X_train,X_test,y_train,y_test=train_test_split(X,y,test_size=0.2,random_state=0)"
   ]
  },
  {
   "cell_type": "code",
   "execution_count": 48,
   "metadata": {},
   "outputs": [],
   "source": [
    "#Here we apply LinearRegression Algorithm\n",
    "from sklearn.linear_model import LinearRegression\n",
    "le=LinearRegression()"
   ]
  },
  {
   "cell_type": "code",
   "execution_count": 49,
   "metadata": {},
   "outputs": [
    {
     "data": {
      "text/plain": [
       "LinearRegression()"
      ]
     },
     "execution_count": 49,
     "metadata": {},
     "output_type": "execute_result"
    }
   ],
   "source": [
    "#we fit model into data\n",
    "le.fit(X_train,y_train)"
   ]
  },
  {
   "cell_type": "code",
   "execution_count": 50,
   "metadata": {},
   "outputs": [
    {
     "data": {
      "text/plain": [
       "array([ 894776.89284776,  -39234.78299402,  976899.41072682, ...,\n",
       "       2069386.45136556,  607495.20150164,  767620.86860287])"
      ]
     },
     "execution_count": 50,
     "metadata": {},
     "output_type": "execute_result"
    }
   ],
   "source": [
    "pred=le.predict(X_test)\n",
    "pred"
   ]
  },
  {
   "cell_type": "code",
   "execution_count": 51,
   "metadata": {},
   "outputs": [],
   "source": [
    "#we import the metrics in sklearn Library\n",
    "from sklearn import metrics"
   ]
  },
  {
   "cell_type": "code",
   "execution_count": 52,
   "metadata": {},
   "outputs": [
    {
     "name": "stdout",
     "output_type": "stream",
     "text": [
      "Mean Absoluted Error:  281024.2540883827\n",
      "Mean Squared Error:  194646363221.54904\n",
      "Root Mean Squared Error:  441187.44680866547\n",
      "r2 score:  0.5435391909798766\n",
      "Mean :  1050173.344955408\n"
     ]
    }
   ],
   "source": [
    "#Here check the MSE,MAE,RMSE,R2score\n",
    "print(\"Mean Absoluted Error: \",metrics.mean_absolute_error(y_test,pred))\n",
    "print(\"Mean Squared Error: \",metrics.mean_squared_error(y_test,pred))\n",
    "print(\"Root Mean Squared Error: \",np.sqrt(metrics.mean_squared_error(y_test,pred)))\n",
    "print(\"r2 score: \",metrics.r2_score(y_test,pred))\n",
    "print('Mean : ',df['Price'].mean())"
   ]
  },
  {
   "cell_type": "code",
   "execution_count": 53,
   "metadata": {},
   "outputs": [
    {
     "name": "stdout",
     "output_type": "stream",
     "text": [
      "<class 'pandas.core.frame.DataFrame'>\n",
      "Int64Index: 7610 entries, 0 to 34850\n",
      "Data columns (total 21 columns):\n",
      " #   Column         Non-Null Count  Dtype         \n",
      "---  ------         --------------  -----         \n",
      " 0   Suburb         7610 non-null   object        \n",
      " 1   Rooms          7610 non-null   int64         \n",
      " 2   Type           7610 non-null   object        \n",
      " 3   Price          0 non-null      float64       \n",
      " 4   Method         7610 non-null   object        \n",
      " 5   SellerG        7610 non-null   object        \n",
      " 6   Date           7610 non-null   datetime64[ns]\n",
      " 7   Distance       7610 non-null   float64       \n",
      " 8   Postcode       7610 non-null   object        \n",
      " 9   Bathroom       5831 non-null   float64       \n",
      " 10  Car            5706 non-null   float64       \n",
      " 11  Landsize       5065 non-null   float64       \n",
      " 12  BuildingArea   3086 non-null   float64       \n",
      " 13  YearBuilt      3467 non-null   float64       \n",
      " 14  CouncilArea    7610 non-null   object        \n",
      " 15  Lattitude      5888 non-null   float64       \n",
      " 16  Longtitude     5888 non-null   float64       \n",
      " 17  Regionname     7610 non-null   object        \n",
      " 18  Propertycount  7610 non-null   float64       \n",
      " 19  Year           7610 non-null   int64         \n",
      " 20  Month          7610 non-null   int64         \n",
      "dtypes: datetime64[ns](1), float64(10), int64(3), object(7)\n",
      "memory usage: 1.3+ MB\n"
     ]
    }
   ],
   "source": [
    "#In this we perform with test data of Price null values\n",
    "test_data.info()"
   ]
  },
  {
   "cell_type": "code",
   "execution_count": 54,
   "metadata": {},
   "outputs": [
    {
     "data": {
      "text/plain": [
       "Suburb              0\n",
       "Rooms               0\n",
       "Type                0\n",
       "Price            7610\n",
       "Method              0\n",
       "SellerG             0\n",
       "Date                0\n",
       "Distance            0\n",
       "Postcode            0\n",
       "Bathroom         1779\n",
       "Car              1904\n",
       "Landsize         2545\n",
       "BuildingArea     4524\n",
       "YearBuilt        4143\n",
       "CouncilArea         0\n",
       "Lattitude        1722\n",
       "Longtitude       1722\n",
       "Regionname          0\n",
       "Propertycount       0\n",
       "Year                0\n",
       "Month               0\n",
       "dtype: int64"
      ]
     },
     "execution_count": 54,
     "metadata": {},
     "output_type": "execute_result"
    }
   ],
   "source": [
    "#test_data\n",
    "test_data.isnull().sum()"
   ]
  },
  {
   "cell_type": "code",
   "execution_count": 55,
   "metadata": {},
   "outputs": [],
   "source": [
    "test_data.drop(['Price'],axis=1,inplace=True)"
   ]
  },
  {
   "cell_type": "code",
   "execution_count": 56,
   "metadata": {},
   "outputs": [],
   "source": [
    "#missing value imputation\n",
    "test_data['Postcode'].fillna(test_data['Postcode'].mode()[0],inplace=True)\n",
    "test_data['CouncilArea'].fillna(test_data['CouncilArea'].mode()[0],inplace=True)\n",
    "test_data['Regionname'].fillna(test_data['Regionname'].mode()[0],inplace=True)"
   ]
  },
  {
   "cell_type": "code",
   "execution_count": 57,
   "metadata": {},
   "outputs": [],
   "source": [
    "#fill the missing values with mode\n",
    "test_data['Bathroom'].fillna(test_data['Bathroom'].mode()[0],inplace=True)\n",
    "test_data['Car'].fillna(test_data['Car'].mode()[0],inplace=True)"
   ]
  },
  {
   "cell_type": "code",
   "execution_count": 58,
   "metadata": {},
   "outputs": [],
   "source": [
    "#we can fill the continuous features with median values\n",
    "test_data['Distance'].fillna(test_data['Distance'].median(),inplace=True)\n",
    "test_data['Landsize'].fillna(test_data['Landsize'].median(),inplace=True)\n",
    "test_data['Lattitude'].fillna(test_data['Lattitude'].median(),inplace=True)\n",
    "test_data['Longtitude'].fillna(test_data['Longtitude'].median(),inplace=True)\n",
    "test_data['Propertycount'].fillna(test_data['Propertycount'].median(),inplace=True)"
   ]
  },
  {
   "cell_type": "code",
   "execution_count": 59,
   "metadata": {},
   "outputs": [],
   "source": [
    "#Here Yearbuilt and BuildingArea has 50% values of missing. So we can drop 2 columns and also this 2 columns not much impacted on Price\n",
    "test_data.drop(['BuildingArea','YearBuilt'],axis=1,inplace=True)"
   ]
  },
  {
   "cell_type": "code",
   "execution_count": 60,
   "metadata": {},
   "outputs": [],
   "source": [
    "#we can drop Categorical Variables\n",
    "test_data.drop(['Suburb','SellerG','CouncilArea','Date','Method'],axis=1,inplace=True)"
   ]
  },
  {
   "cell_type": "code",
   "execution_count": 61,
   "metadata": {},
   "outputs": [
    {
     "name": "stdout",
     "output_type": "stream",
     "text": [
      "<class 'pandas.core.frame.DataFrame'>\n",
      "Int64Index: 7610 entries, 0 to 34850\n",
      "Data columns (total 13 columns):\n",
      " #   Column         Non-Null Count  Dtype  \n",
      "---  ------         --------------  -----  \n",
      " 0   Rooms          7610 non-null   int64  \n",
      " 1   Type           7610 non-null   object \n",
      " 2   Distance       7610 non-null   float64\n",
      " 3   Postcode       7610 non-null   float64\n",
      " 4   Bathroom       7610 non-null   float64\n",
      " 5   Car            7610 non-null   float64\n",
      " 6   Landsize       7610 non-null   float64\n",
      " 7   Lattitude      7610 non-null   float64\n",
      " 8   Longtitude     7610 non-null   float64\n",
      " 9   Regionname     7610 non-null   object \n",
      " 10  Propertycount  7610 non-null   float64\n",
      " 11  Year           7610 non-null   int64  \n",
      " 12  Month          7610 non-null   int64  \n",
      "dtypes: float64(8), int64(3), object(2)\n",
      "memory usage: 832.3+ KB\n"
     ]
    }
   ],
   "source": [
    "test_data.info()"
   ]
  },
  {
   "cell_type": "code",
   "execution_count": 62,
   "metadata": {},
   "outputs": [],
   "source": [
    "#we can convert categorical data into numerical data\n",
    "test_data=pd.get_dummies(test_data,drop_first=True)"
   ]
  },
  {
   "cell_type": "code",
   "execution_count": 63,
   "metadata": {},
   "outputs": [
    {
     "data": {
      "text/plain": [
       "Rooms                                    0\n",
       "Distance                                 0\n",
       "Postcode                                 0\n",
       "Bathroom                                 0\n",
       "Car                                      0\n",
       "Landsize                                 0\n",
       "Lattitude                                0\n",
       "Longtitude                               0\n",
       "Propertycount                            0\n",
       "Year                                     0\n",
       "Month                                    0\n",
       "Type_t                                   0\n",
       "Type_u                                   0\n",
       "Regionname_Eastern Victoria              0\n",
       "Regionname_Northern Metropolitan         0\n",
       "Regionname_Northern Victoria             0\n",
       "Regionname_South-Eastern Metropolitan    0\n",
       "Regionname_Southern Metropolitan         0\n",
       "Regionname_Western Metropolitan          0\n",
       "Regionname_Western Victoria              0\n",
       "dtype: int64"
      ]
     },
     "execution_count": 63,
     "metadata": {},
     "output_type": "execute_result"
    }
   ],
   "source": [
    "test_data.isnull().sum()"
   ]
  },
  {
   "cell_type": "code",
   "execution_count": 64,
   "metadata": {},
   "outputs": [],
   "source": [
    "#X2=test_data##[['Rooms','Distance','Postcode','Bathroom','Car','Landsize','Lattitude','Longtitude','Propertycount','Year','Month',\n",
    "             # 'Type_t','Type_u','Method_PN','Method_S','Method_SA','Method_SN','Method_SP','Method_SS','Method_VB','Method_W',\n",
    "              ##'Regionname_Eastern Victoria','Regionname_Northern Metropolitan','Regionname_Northern Victoria','Regionname_South-Eastern Metropolitan',\n",
    "              #'#Regionname_Southern Metropolitan','Regionname_Western Metropolitan','Regionname_Western Victoria']]"
   ]
  },
  {
   "cell_type": "code",
   "execution_count": 65,
   "metadata": {},
   "outputs": [
    {
     "data": {
      "text/html": [
       "<div>\n",
       "<style scoped>\n",
       "    .dataframe tbody tr th:only-of-type {\n",
       "        vertical-align: middle;\n",
       "    }\n",
       "\n",
       "    .dataframe tbody tr th {\n",
       "        vertical-align: top;\n",
       "    }\n",
       "\n",
       "    .dataframe thead th {\n",
       "        text-align: right;\n",
       "    }\n",
       "</style>\n",
       "<table border=\"1\" class=\"dataframe\">\n",
       "  <thead>\n",
       "    <tr style=\"text-align: right;\">\n",
       "      <th></th>\n",
       "      <th>Rooms</th>\n",
       "      <th>Distance</th>\n",
       "      <th>Postcode</th>\n",
       "      <th>Bathroom</th>\n",
       "      <th>Car</th>\n",
       "      <th>Landsize</th>\n",
       "      <th>Lattitude</th>\n",
       "      <th>Longtitude</th>\n",
       "      <th>Propertycount</th>\n",
       "      <th>Year</th>\n",
       "      <th>Month</th>\n",
       "      <th>Type_t</th>\n",
       "      <th>Type_u</th>\n",
       "      <th>Regionname_Eastern Victoria</th>\n",
       "      <th>Regionname_Northern Metropolitan</th>\n",
       "      <th>Regionname_Northern Victoria</th>\n",
       "      <th>Regionname_South-Eastern Metropolitan</th>\n",
       "      <th>Regionname_Southern Metropolitan</th>\n",
       "      <th>Regionname_Western Metropolitan</th>\n",
       "      <th>Regionname_Western Victoria</th>\n",
       "    </tr>\n",
       "  </thead>\n",
       "  <tbody>\n",
       "    <tr>\n",
       "      <th>0</th>\n",
       "      <td>2</td>\n",
       "      <td>2.5</td>\n",
       "      <td>3067.0</td>\n",
       "      <td>1.0</td>\n",
       "      <td>1.0</td>\n",
       "      <td>126.0</td>\n",
       "      <td>-37.8014</td>\n",
       "      <td>144.9958</td>\n",
       "      <td>4019.0</td>\n",
       "      <td>2016</td>\n",
       "      <td>3</td>\n",
       "      <td>0</td>\n",
       "      <td>0</td>\n",
       "      <td>0</td>\n",
       "      <td>1</td>\n",
       "      <td>0</td>\n",
       "      <td>0</td>\n",
       "      <td>0</td>\n",
       "      <td>0</td>\n",
       "      <td>0</td>\n",
       "    </tr>\n",
       "    <tr>\n",
       "      <th>3</th>\n",
       "      <td>3</td>\n",
       "      <td>2.5</td>\n",
       "      <td>3067.0</td>\n",
       "      <td>2.0</td>\n",
       "      <td>1.0</td>\n",
       "      <td>0.0</td>\n",
       "      <td>-37.8114</td>\n",
       "      <td>145.0116</td>\n",
       "      <td>4019.0</td>\n",
       "      <td>2016</td>\n",
       "      <td>4</td>\n",
       "      <td>0</td>\n",
       "      <td>1</td>\n",
       "      <td>0</td>\n",
       "      <td>1</td>\n",
       "      <td>0</td>\n",
       "      <td>0</td>\n",
       "      <td>0</td>\n",
       "      <td>0</td>\n",
       "      <td>0</td>\n",
       "    </tr>\n",
       "    <tr>\n",
       "      <th>7</th>\n",
       "      <td>4</td>\n",
       "      <td>2.5</td>\n",
       "      <td>3067.0</td>\n",
       "      <td>2.0</td>\n",
       "      <td>2.0</td>\n",
       "      <td>400.0</td>\n",
       "      <td>-37.7965</td>\n",
       "      <td>144.9965</td>\n",
       "      <td>4019.0</td>\n",
       "      <td>2016</td>\n",
       "      <td>6</td>\n",
       "      <td>0</td>\n",
       "      <td>0</td>\n",
       "      <td>0</td>\n",
       "      <td>1</td>\n",
       "      <td>0</td>\n",
       "      <td>0</td>\n",
       "      <td>0</td>\n",
       "      <td>0</td>\n",
       "      <td>0</td>\n",
       "    </tr>\n",
       "    <tr>\n",
       "      <th>8</th>\n",
       "      <td>2</td>\n",
       "      <td>2.5</td>\n",
       "      <td>3067.0</td>\n",
       "      <td>1.0</td>\n",
       "      <td>2.0</td>\n",
       "      <td>201.0</td>\n",
       "      <td>-37.7995</td>\n",
       "      <td>144.9974</td>\n",
       "      <td>4019.0</td>\n",
       "      <td>2016</td>\n",
       "      <td>6</td>\n",
       "      <td>0</td>\n",
       "      <td>0</td>\n",
       "      <td>0</td>\n",
       "      <td>1</td>\n",
       "      <td>0</td>\n",
       "      <td>0</td>\n",
       "      <td>0</td>\n",
       "      <td>0</td>\n",
       "      <td>0</td>\n",
       "    </tr>\n",
       "    <tr>\n",
       "      <th>9</th>\n",
       "      <td>2</td>\n",
       "      <td>2.5</td>\n",
       "      <td>3067.0</td>\n",
       "      <td>2.0</td>\n",
       "      <td>1.0</td>\n",
       "      <td>202.0</td>\n",
       "      <td>-37.7996</td>\n",
       "      <td>144.9989</td>\n",
       "      <td>4019.0</td>\n",
       "      <td>2016</td>\n",
       "      <td>6</td>\n",
       "      <td>0</td>\n",
       "      <td>0</td>\n",
       "      <td>0</td>\n",
       "      <td>1</td>\n",
       "      <td>0</td>\n",
       "      <td>0</td>\n",
       "      <td>0</td>\n",
       "      <td>0</td>\n",
       "      <td>0</td>\n",
       "    </tr>\n",
       "  </tbody>\n",
       "</table>\n",
       "</div>"
      ],
      "text/plain": [
       "   Rooms  Distance  Postcode  Bathroom  Car  Landsize  Lattitude  Longtitude  \\\n",
       "0      2       2.5    3067.0       1.0  1.0     126.0   -37.8014    144.9958   \n",
       "3      3       2.5    3067.0       2.0  1.0       0.0   -37.8114    145.0116   \n",
       "7      4       2.5    3067.0       2.0  2.0     400.0   -37.7965    144.9965   \n",
       "8      2       2.5    3067.0       1.0  2.0     201.0   -37.7995    144.9974   \n",
       "9      2       2.5    3067.0       2.0  1.0     202.0   -37.7996    144.9989   \n",
       "\n",
       "   Propertycount  Year  Month  Type_t  Type_u  Regionname_Eastern Victoria  \\\n",
       "0         4019.0  2016      3       0       0                            0   \n",
       "3         4019.0  2016      4       0       1                            0   \n",
       "7         4019.0  2016      6       0       0                            0   \n",
       "8         4019.0  2016      6       0       0                            0   \n",
       "9         4019.0  2016      6       0       0                            0   \n",
       "\n",
       "   Regionname_Northern Metropolitan  Regionname_Northern Victoria  \\\n",
       "0                                 1                             0   \n",
       "3                                 1                             0   \n",
       "7                                 1                             0   \n",
       "8                                 1                             0   \n",
       "9                                 1                             0   \n",
       "\n",
       "   Regionname_South-Eastern Metropolitan  Regionname_Southern Metropolitan  \\\n",
       "0                                      0                                 0   \n",
       "3                                      0                                 0   \n",
       "7                                      0                                 0   \n",
       "8                                      0                                 0   \n",
       "9                                      0                                 0   \n",
       "\n",
       "   Regionname_Western Metropolitan  Regionname_Western Victoria  \n",
       "0                                0                            0  \n",
       "3                                0                            0  \n",
       "7                                0                            0  \n",
       "8                                0                            0  \n",
       "9                                0                            0  "
      ]
     },
     "execution_count": 65,
     "metadata": {},
     "output_type": "execute_result"
    }
   ],
   "source": [
    "test_data.head()"
   ]
  },
  {
   "cell_type": "code",
   "execution_count": 66,
   "metadata": {},
   "outputs": [],
   "source": [
    "#Here we calculate null values of Price Column\n",
    "price=le.predict(test_data)"
   ]
  },
  {
   "cell_type": "code",
   "execution_count": 67,
   "metadata": {},
   "outputs": [],
   "source": [
    "test_data['Price']=np.round(price)"
   ]
  },
  {
   "cell_type": "code",
   "execution_count": 68,
   "metadata": {},
   "outputs": [
    {
     "data": {
      "text/html": [
       "<div>\n",
       "<style scoped>\n",
       "    .dataframe tbody tr th:only-of-type {\n",
       "        vertical-align: middle;\n",
       "    }\n",
       "\n",
       "    .dataframe tbody tr th {\n",
       "        vertical-align: top;\n",
       "    }\n",
       "\n",
       "    .dataframe thead th {\n",
       "        text-align: right;\n",
       "    }\n",
       "</style>\n",
       "<table border=\"1\" class=\"dataframe\">\n",
       "  <thead>\n",
       "    <tr style=\"text-align: right;\">\n",
       "      <th></th>\n",
       "      <th>Rooms</th>\n",
       "      <th>Distance</th>\n",
       "      <th>Postcode</th>\n",
       "      <th>Bathroom</th>\n",
       "      <th>Car</th>\n",
       "      <th>Landsize</th>\n",
       "      <th>Lattitude</th>\n",
       "      <th>Longtitude</th>\n",
       "      <th>Propertycount</th>\n",
       "      <th>Year</th>\n",
       "      <th>...</th>\n",
       "      <th>Type_t</th>\n",
       "      <th>Type_u</th>\n",
       "      <th>Regionname_Eastern Victoria</th>\n",
       "      <th>Regionname_Northern Metropolitan</th>\n",
       "      <th>Regionname_Northern Victoria</th>\n",
       "      <th>Regionname_South-Eastern Metropolitan</th>\n",
       "      <th>Regionname_Southern Metropolitan</th>\n",
       "      <th>Regionname_Western Metropolitan</th>\n",
       "      <th>Regionname_Western Victoria</th>\n",
       "      <th>Price</th>\n",
       "    </tr>\n",
       "  </thead>\n",
       "  <tbody>\n",
       "    <tr>\n",
       "      <th>0</th>\n",
       "      <td>2</td>\n",
       "      <td>2.5</td>\n",
       "      <td>3067.0</td>\n",
       "      <td>1.0</td>\n",
       "      <td>1.0</td>\n",
       "      <td>126.0</td>\n",
       "      <td>-37.8014</td>\n",
       "      <td>144.9958</td>\n",
       "      <td>4019.0</td>\n",
       "      <td>2016</td>\n",
       "      <td>...</td>\n",
       "      <td>0</td>\n",
       "      <td>0</td>\n",
       "      <td>0</td>\n",
       "      <td>1</td>\n",
       "      <td>0</td>\n",
       "      <td>0</td>\n",
       "      <td>0</td>\n",
       "      <td>0</td>\n",
       "      <td>0</td>\n",
       "      <td>1021405.0</td>\n",
       "    </tr>\n",
       "    <tr>\n",
       "      <th>3</th>\n",
       "      <td>3</td>\n",
       "      <td>2.5</td>\n",
       "      <td>3067.0</td>\n",
       "      <td>2.0</td>\n",
       "      <td>1.0</td>\n",
       "      <td>0.0</td>\n",
       "      <td>-37.8114</td>\n",
       "      <td>145.0116</td>\n",
       "      <td>4019.0</td>\n",
       "      <td>2016</td>\n",
       "      <td>...</td>\n",
       "      <td>0</td>\n",
       "      <td>1</td>\n",
       "      <td>0</td>\n",
       "      <td>1</td>\n",
       "      <td>0</td>\n",
       "      <td>0</td>\n",
       "      <td>0</td>\n",
       "      <td>0</td>\n",
       "      <td>0</td>\n",
       "      <td>915444.0</td>\n",
       "    </tr>\n",
       "    <tr>\n",
       "      <th>7</th>\n",
       "      <td>4</td>\n",
       "      <td>2.5</td>\n",
       "      <td>3067.0</td>\n",
       "      <td>2.0</td>\n",
       "      <td>2.0</td>\n",
       "      <td>400.0</td>\n",
       "      <td>-37.7965</td>\n",
       "      <td>144.9965</td>\n",
       "      <td>4019.0</td>\n",
       "      <td>2016</td>\n",
       "      <td>...</td>\n",
       "      <td>0</td>\n",
       "      <td>0</td>\n",
       "      <td>0</td>\n",
       "      <td>1</td>\n",
       "      <td>0</td>\n",
       "      <td>0</td>\n",
       "      <td>0</td>\n",
       "      <td>0</td>\n",
       "      <td>0</td>\n",
       "      <td>1643974.0</td>\n",
       "    </tr>\n",
       "    <tr>\n",
       "      <th>8</th>\n",
       "      <td>2</td>\n",
       "      <td>2.5</td>\n",
       "      <td>3067.0</td>\n",
       "      <td>1.0</td>\n",
       "      <td>2.0</td>\n",
       "      <td>201.0</td>\n",
       "      <td>-37.7995</td>\n",
       "      <td>144.9974</td>\n",
       "      <td>4019.0</td>\n",
       "      <td>2016</td>\n",
       "      <td>...</td>\n",
       "      <td>0</td>\n",
       "      <td>0</td>\n",
       "      <td>0</td>\n",
       "      <td>1</td>\n",
       "      <td>0</td>\n",
       "      <td>0</td>\n",
       "      <td>0</td>\n",
       "      <td>0</td>\n",
       "      <td>0</td>\n",
       "      <td>1072803.0</td>\n",
       "    </tr>\n",
       "    <tr>\n",
       "      <th>9</th>\n",
       "      <td>2</td>\n",
       "      <td>2.5</td>\n",
       "      <td>3067.0</td>\n",
       "      <td>2.0</td>\n",
       "      <td>1.0</td>\n",
       "      <td>202.0</td>\n",
       "      <td>-37.7996</td>\n",
       "      <td>144.9989</td>\n",
       "      <td>4019.0</td>\n",
       "      <td>2016</td>\n",
       "      <td>...</td>\n",
       "      <td>0</td>\n",
       "      <td>0</td>\n",
       "      <td>0</td>\n",
       "      <td>1</td>\n",
       "      <td>0</td>\n",
       "      <td>0</td>\n",
       "      <td>0</td>\n",
       "      <td>0</td>\n",
       "      <td>0</td>\n",
       "      <td>1169350.0</td>\n",
       "    </tr>\n",
       "  </tbody>\n",
       "</table>\n",
       "<p>5 rows × 21 columns</p>\n",
       "</div>"
      ],
      "text/plain": [
       "   Rooms  Distance  Postcode  Bathroom  Car  Landsize  Lattitude  Longtitude  \\\n",
       "0      2       2.5    3067.0       1.0  1.0     126.0   -37.8014    144.9958   \n",
       "3      3       2.5    3067.0       2.0  1.0       0.0   -37.8114    145.0116   \n",
       "7      4       2.5    3067.0       2.0  2.0     400.0   -37.7965    144.9965   \n",
       "8      2       2.5    3067.0       1.0  2.0     201.0   -37.7995    144.9974   \n",
       "9      2       2.5    3067.0       2.0  1.0     202.0   -37.7996    144.9989   \n",
       "\n",
       "   Propertycount  Year  ...  Type_t  Type_u  Regionname_Eastern Victoria  \\\n",
       "0         4019.0  2016  ...       0       0                            0   \n",
       "3         4019.0  2016  ...       0       1                            0   \n",
       "7         4019.0  2016  ...       0       0                            0   \n",
       "8         4019.0  2016  ...       0       0                            0   \n",
       "9         4019.0  2016  ...       0       0                            0   \n",
       "\n",
       "   Regionname_Northern Metropolitan  Regionname_Northern Victoria  \\\n",
       "0                                 1                             0   \n",
       "3                                 1                             0   \n",
       "7                                 1                             0   \n",
       "8                                 1                             0   \n",
       "9                                 1                             0   \n",
       "\n",
       "   Regionname_South-Eastern Metropolitan  Regionname_Southern Metropolitan  \\\n",
       "0                                      0                                 0   \n",
       "3                                      0                                 0   \n",
       "7                                      0                                 0   \n",
       "8                                      0                                 0   \n",
       "9                                      0                                 0   \n",
       "\n",
       "   Regionname_Western Metropolitan  Regionname_Western Victoria      Price  \n",
       "0                                0                            0  1021405.0  \n",
       "3                                0                            0   915444.0  \n",
       "7                                0                            0  1643974.0  \n",
       "8                                0                            0  1072803.0  \n",
       "9                                0                            0  1169350.0  \n",
       "\n",
       "[5 rows x 21 columns]"
      ]
     },
     "execution_count": 68,
     "metadata": {},
     "output_type": "execute_result"
    }
   ],
   "source": [
    "test_data.head()"
   ]
  },
  {
   "cell_type": "code",
   "execution_count": 69,
   "metadata": {},
   "outputs": [
    {
     "name": "stdout",
     "output_type": "stream",
     "text": [
      "<class 'pandas.core.frame.DataFrame'>\n",
      "Int64Index: 7610 entries, 0 to 34850\n",
      "Data columns (total 21 columns):\n",
      " #   Column                                 Non-Null Count  Dtype  \n",
      "---  ------                                 --------------  -----  \n",
      " 0   Rooms                                  7610 non-null   int64  \n",
      " 1   Distance                               7610 non-null   float64\n",
      " 2   Postcode                               7610 non-null   float64\n",
      " 3   Bathroom                               7610 non-null   float64\n",
      " 4   Car                                    7610 non-null   float64\n",
      " 5   Landsize                               7610 non-null   float64\n",
      " 6   Lattitude                              7610 non-null   float64\n",
      " 7   Longtitude                             7610 non-null   float64\n",
      " 8   Propertycount                          7610 non-null   float64\n",
      " 9   Year                                   7610 non-null   int64  \n",
      " 10  Month                                  7610 non-null   int64  \n",
      " 11  Type_t                                 7610 non-null   uint8  \n",
      " 12  Type_u                                 7610 non-null   uint8  \n",
      " 13  Regionname_Eastern Victoria            7610 non-null   uint8  \n",
      " 14  Regionname_Northern Metropolitan       7610 non-null   uint8  \n",
      " 15  Regionname_Northern Victoria           7610 non-null   uint8  \n",
      " 16  Regionname_South-Eastern Metropolitan  7610 non-null   uint8  \n",
      " 17  Regionname_Southern Metropolitan       7610 non-null   uint8  \n",
      " 18  Regionname_Western Metropolitan        7610 non-null   uint8  \n",
      " 19  Regionname_Western Victoria            7610 non-null   uint8  \n",
      " 20  Price                                  7610 non-null   float64\n",
      "dtypes: float64(9), int64(3), uint8(9)\n",
      "memory usage: 839.8 KB\n"
     ]
    }
   ],
   "source": [
    "test_data.info()"
   ]
  },
  {
   "cell_type": "code",
   "execution_count": 71,
   "metadata": {},
   "outputs": [],
   "source": [
    "train_data=train_data[['Rooms','Distance','Postcode','Bathroom','Car','Landsize','Lattitude','Longtitude','Propertycount',\n",
    "                        'Year','Month','Type_t','Type_u','Regionname_Eastern Victoria','Regionname_Northern Metropolitan',\n",
    "                        'Regionname_Northern Victoria','Regionname_South-Eastern Metropolitan','Regionname_Southern Metropolitan',\n",
    "                        'Regionname_Western Metropolitan','Regionname_Western Victoria','Price']]"
   ]
  },
  {
   "cell_type": "code",
   "execution_count": 72,
   "metadata": {},
   "outputs": [
    {
     "data": {
      "text/html": [
       "<div>\n",
       "<style scoped>\n",
       "    .dataframe tbody tr th:only-of-type {\n",
       "        vertical-align: middle;\n",
       "    }\n",
       "\n",
       "    .dataframe tbody tr th {\n",
       "        vertical-align: top;\n",
       "    }\n",
       "\n",
       "    .dataframe thead th {\n",
       "        text-align: right;\n",
       "    }\n",
       "</style>\n",
       "<table border=\"1\" class=\"dataframe\">\n",
       "  <thead>\n",
       "    <tr style=\"text-align: right;\">\n",
       "      <th></th>\n",
       "      <th>Rooms</th>\n",
       "      <th>Distance</th>\n",
       "      <th>Postcode</th>\n",
       "      <th>Bathroom</th>\n",
       "      <th>Car</th>\n",
       "      <th>Landsize</th>\n",
       "      <th>Lattitude</th>\n",
       "      <th>Longtitude</th>\n",
       "      <th>Propertycount</th>\n",
       "      <th>Year</th>\n",
       "      <th>...</th>\n",
       "      <th>Type_t</th>\n",
       "      <th>Type_u</th>\n",
       "      <th>Regionname_Eastern Victoria</th>\n",
       "      <th>Regionname_Northern Metropolitan</th>\n",
       "      <th>Regionname_Northern Victoria</th>\n",
       "      <th>Regionname_South-Eastern Metropolitan</th>\n",
       "      <th>Regionname_Southern Metropolitan</th>\n",
       "      <th>Regionname_Western Metropolitan</th>\n",
       "      <th>Regionname_Western Victoria</th>\n",
       "      <th>Price</th>\n",
       "    </tr>\n",
       "  </thead>\n",
       "  <tbody>\n",
       "    <tr>\n",
       "      <th>1</th>\n",
       "      <td>2</td>\n",
       "      <td>2.5</td>\n",
       "      <td>3067.0</td>\n",
       "      <td>1.0</td>\n",
       "      <td>1.0</td>\n",
       "      <td>202.0</td>\n",
       "      <td>-37.7996</td>\n",
       "      <td>144.9984</td>\n",
       "      <td>4019.0</td>\n",
       "      <td>2016</td>\n",
       "      <td>...</td>\n",
       "      <td>0</td>\n",
       "      <td>0</td>\n",
       "      <td>0</td>\n",
       "      <td>1</td>\n",
       "      <td>0</td>\n",
       "      <td>0</td>\n",
       "      <td>0</td>\n",
       "      <td>0</td>\n",
       "      <td>0</td>\n",
       "      <td>1480000.0</td>\n",
       "    </tr>\n",
       "    <tr>\n",
       "      <th>2</th>\n",
       "      <td>2</td>\n",
       "      <td>2.5</td>\n",
       "      <td>3067.0</td>\n",
       "      <td>1.0</td>\n",
       "      <td>0.0</td>\n",
       "      <td>156.0</td>\n",
       "      <td>-37.8079</td>\n",
       "      <td>144.9934</td>\n",
       "      <td>4019.0</td>\n",
       "      <td>2016</td>\n",
       "      <td>...</td>\n",
       "      <td>0</td>\n",
       "      <td>0</td>\n",
       "      <td>0</td>\n",
       "      <td>1</td>\n",
       "      <td>0</td>\n",
       "      <td>0</td>\n",
       "      <td>0</td>\n",
       "      <td>0</td>\n",
       "      <td>0</td>\n",
       "      <td>1035000.0</td>\n",
       "    </tr>\n",
       "    <tr>\n",
       "      <th>4</th>\n",
       "      <td>3</td>\n",
       "      <td>2.5</td>\n",
       "      <td>3067.0</td>\n",
       "      <td>2.0</td>\n",
       "      <td>0.0</td>\n",
       "      <td>134.0</td>\n",
       "      <td>-37.8093</td>\n",
       "      <td>144.9944</td>\n",
       "      <td>4019.0</td>\n",
       "      <td>2017</td>\n",
       "      <td>...</td>\n",
       "      <td>0</td>\n",
       "      <td>0</td>\n",
       "      <td>0</td>\n",
       "      <td>1</td>\n",
       "      <td>0</td>\n",
       "      <td>0</td>\n",
       "      <td>0</td>\n",
       "      <td>0</td>\n",
       "      <td>0</td>\n",
       "      <td>1465000.0</td>\n",
       "    </tr>\n",
       "    <tr>\n",
       "      <th>5</th>\n",
       "      <td>3</td>\n",
       "      <td>2.5</td>\n",
       "      <td>3067.0</td>\n",
       "      <td>2.0</td>\n",
       "      <td>1.0</td>\n",
       "      <td>94.0</td>\n",
       "      <td>-37.7969</td>\n",
       "      <td>144.9969</td>\n",
       "      <td>4019.0</td>\n",
       "      <td>2017</td>\n",
       "      <td>...</td>\n",
       "      <td>0</td>\n",
       "      <td>0</td>\n",
       "      <td>0</td>\n",
       "      <td>1</td>\n",
       "      <td>0</td>\n",
       "      <td>0</td>\n",
       "      <td>0</td>\n",
       "      <td>0</td>\n",
       "      <td>0</td>\n",
       "      <td>850000.0</td>\n",
       "    </tr>\n",
       "    <tr>\n",
       "      <th>6</th>\n",
       "      <td>4</td>\n",
       "      <td>2.5</td>\n",
       "      <td>3067.0</td>\n",
       "      <td>1.0</td>\n",
       "      <td>2.0</td>\n",
       "      <td>120.0</td>\n",
       "      <td>-37.8072</td>\n",
       "      <td>144.9941</td>\n",
       "      <td>4019.0</td>\n",
       "      <td>2016</td>\n",
       "      <td>...</td>\n",
       "      <td>0</td>\n",
       "      <td>0</td>\n",
       "      <td>0</td>\n",
       "      <td>1</td>\n",
       "      <td>0</td>\n",
       "      <td>0</td>\n",
       "      <td>0</td>\n",
       "      <td>0</td>\n",
       "      <td>0</td>\n",
       "      <td>1600000.0</td>\n",
       "    </tr>\n",
       "  </tbody>\n",
       "</table>\n",
       "<p>5 rows × 21 columns</p>\n",
       "</div>"
      ],
      "text/plain": [
       "   Rooms  Distance  Postcode  Bathroom  Car  Landsize  Lattitude  Longtitude  \\\n",
       "1      2       2.5    3067.0       1.0  1.0     202.0   -37.7996    144.9984   \n",
       "2      2       2.5    3067.0       1.0  0.0     156.0   -37.8079    144.9934   \n",
       "4      3       2.5    3067.0       2.0  0.0     134.0   -37.8093    144.9944   \n",
       "5      3       2.5    3067.0       2.0  1.0      94.0   -37.7969    144.9969   \n",
       "6      4       2.5    3067.0       1.0  2.0     120.0   -37.8072    144.9941   \n",
       "\n",
       "   Propertycount  Year  ...  Type_t  Type_u  Regionname_Eastern Victoria  \\\n",
       "1         4019.0  2016  ...       0       0                            0   \n",
       "2         4019.0  2016  ...       0       0                            0   \n",
       "4         4019.0  2017  ...       0       0                            0   \n",
       "5         4019.0  2017  ...       0       0                            0   \n",
       "6         4019.0  2016  ...       0       0                            0   \n",
       "\n",
       "   Regionname_Northern Metropolitan  Regionname_Northern Victoria  \\\n",
       "1                                 1                             0   \n",
       "2                                 1                             0   \n",
       "4                                 1                             0   \n",
       "5                                 1                             0   \n",
       "6                                 1                             0   \n",
       "\n",
       "   Regionname_South-Eastern Metropolitan  Regionname_Southern Metropolitan  \\\n",
       "1                                      0                                 0   \n",
       "2                                      0                                 0   \n",
       "4                                      0                                 0   \n",
       "5                                      0                                 0   \n",
       "6                                      0                                 0   \n",
       "\n",
       "   Regionname_Western Metropolitan  Regionname_Western Victoria      Price  \n",
       "1                                0                            0  1480000.0  \n",
       "2                                0                            0  1035000.0  \n",
       "4                                0                            0  1465000.0  \n",
       "5                                0                            0   850000.0  \n",
       "6                                0                            0  1600000.0  \n",
       "\n",
       "[5 rows x 21 columns]"
      ]
     },
     "execution_count": 72,
     "metadata": {},
     "output_type": "execute_result"
    }
   ],
   "source": [
    "train_data.head()"
   ]
  },
  {
   "cell_type": "code",
   "execution_count": 73,
   "metadata": {},
   "outputs": [],
   "source": [
    "#we concat train_data,test_data\n",
    "df1=pd.concat([train_data,test_data])"
   ]
  },
  {
   "cell_type": "code",
   "execution_count": 74,
   "metadata": {},
   "outputs": [
    {
     "name": "stdout",
     "output_type": "stream",
     "text": [
      "<class 'pandas.core.frame.DataFrame'>\n",
      "Int64Index: 34857 entries, 1 to 34850\n",
      "Data columns (total 21 columns):\n",
      " #   Column                                 Non-Null Count  Dtype  \n",
      "---  ------                                 --------------  -----  \n",
      " 0   Rooms                                  34857 non-null  int64  \n",
      " 1   Distance                               34857 non-null  float64\n",
      " 2   Postcode                               34857 non-null  float64\n",
      " 3   Bathroom                               34857 non-null  float64\n",
      " 4   Car                                    34857 non-null  float64\n",
      " 5   Landsize                               34857 non-null  float64\n",
      " 6   Lattitude                              34857 non-null  float64\n",
      " 7   Longtitude                             34857 non-null  float64\n",
      " 8   Propertycount                          34857 non-null  float64\n",
      " 9   Year                                   34857 non-null  int64  \n",
      " 10  Month                                  34857 non-null  int64  \n",
      " 11  Type_t                                 34857 non-null  uint8  \n",
      " 12  Type_u                                 34857 non-null  uint8  \n",
      " 13  Regionname_Eastern Victoria            34857 non-null  uint8  \n",
      " 14  Regionname_Northern Metropolitan       34857 non-null  uint8  \n",
      " 15  Regionname_Northern Victoria           34857 non-null  uint8  \n",
      " 16  Regionname_South-Eastern Metropolitan  34857 non-null  uint8  \n",
      " 17  Regionname_Southern Metropolitan       34857 non-null  uint8  \n",
      " 18  Regionname_Western Metropolitan        34857 non-null  uint8  \n",
      " 19  Regionname_Western Victoria            34857 non-null  uint8  \n",
      " 20  Price                                  34857 non-null  float64\n",
      "dtypes: float64(9), int64(3), uint8(9)\n",
      "memory usage: 3.8 MB\n"
     ]
    }
   ],
   "source": [
    "df1.info()"
   ]
  },
  {
   "cell_type": "code",
   "execution_count": 75,
   "metadata": {},
   "outputs": [
    {
     "data": {
      "text/plain": [
       "Rooms                                    0\n",
       "Distance                                 0\n",
       "Postcode                                 0\n",
       "Bathroom                                 0\n",
       "Car                                      0\n",
       "Landsize                                 0\n",
       "Lattitude                                0\n",
       "Longtitude                               0\n",
       "Propertycount                            0\n",
       "Year                                     0\n",
       "Month                                    0\n",
       "Type_t                                   0\n",
       "Type_u                                   0\n",
       "Regionname_Eastern Victoria              0\n",
       "Regionname_Northern Metropolitan         0\n",
       "Regionname_Northern Victoria             0\n",
       "Regionname_South-Eastern Metropolitan    0\n",
       "Regionname_Southern Metropolitan         0\n",
       "Regionname_Western Metropolitan          0\n",
       "Regionname_Western Victoria              0\n",
       "Price                                    0\n",
       "dtype: int64"
      ]
     },
     "execution_count": 75,
     "metadata": {},
     "output_type": "execute_result"
    }
   ],
   "source": [
    "df1.isnull().sum()"
   ]
  },
  {
   "cell_type": "code",
   "execution_count": 119,
   "metadata": {},
   "outputs": [],
   "source": [
    "df1.to_csv('output.csv')"
   ]
  },
  {
   "cell_type": "markdown",
   "metadata": {},
   "source": [
    "# Modelling"
   ]
  },
  {
   "cell_type": "code",
   "execution_count": 76,
   "metadata": {},
   "outputs": [],
   "source": [
    "#drop the depedent feature from X\n",
    "#capture the dependent feature\n",
    "X=df1.drop('Price',axis=1)\n",
    "y=df1['Price']"
   ]
  },
  {
   "cell_type": "code",
   "execution_count": 77,
   "metadata": {},
   "outputs": [
    {
     "data": {
      "text/plain": [
       "((34857, 20), (34857,))"
      ]
     },
     "execution_count": 77,
     "metadata": {},
     "output_type": "execute_result"
    }
   ],
   "source": [
    "X.shape,y.shape"
   ]
  },
  {
   "cell_type": "markdown",
   "metadata": {},
   "source": [
    "## Model Training &Testing"
   ]
  },
  {
   "cell_type": "code",
   "execution_count": 78,
   "metadata": {},
   "outputs": [],
   "source": [
    "from sklearn.model_selection import train_test_split\n",
    "X_train,X_test,y_train,y_test=train_test_split(X,y,test_size=0.2,random_state=5)"
   ]
  },
  {
   "cell_type": "code",
   "execution_count": 79,
   "metadata": {},
   "outputs": [],
   "source": [
    "le=LinearRegression()"
   ]
  },
  {
   "cell_type": "code",
   "execution_count": 80,
   "metadata": {},
   "outputs": [
    {
     "data": {
      "text/plain": [
       "LinearRegression()"
      ]
     },
     "execution_count": 80,
     "metadata": {},
     "output_type": "execute_result"
    }
   ],
   "source": [
    "le.fit(X_train,y_train)"
   ]
  },
  {
   "cell_type": "code",
   "execution_count": 82,
   "metadata": {},
   "outputs": [
    {
     "data": {
      "text/plain": [
       "array([1200448.0365817 , 1816671.30264597,  987039.497981  , ...,\n",
       "        486042.93516695,  945279.10186335,  485058.8820969 ])"
      ]
     },
     "execution_count": 82,
     "metadata": {},
     "output_type": "execute_result"
    }
   ],
   "source": [
    "pred=le.predict(X_test)\n",
    "pred"
   ]
  },
  {
   "cell_type": "code",
   "execution_count": 83,
   "metadata": {},
   "outputs": [
    {
     "name": "stdout",
     "output_type": "stream",
     "text": [
      "Mean Absoluted Error:  217177.48363033042\n",
      "Mean Squared Error:  132907557962.0147\n",
      "Root Mean Squared Error:  364564.8885479987\n",
      "r2 score:  0.6511745666165134\n",
      "Mean :  1050173.344955408\n"
     ]
    }
   ],
   "source": [
    "print(\"Mean Absoluted Error: \",metrics.mean_absolute_error(y_test,pred))\n",
    "print(\"Mean Squared Error: \",metrics.mean_squared_error(y_test,pred))\n",
    "print(\"Root Mean Squared Error: \",np.sqrt(metrics.mean_squared_error(y_test,pred)))\n",
    "print(\"r2 score: \",metrics.r2_score(y_test,pred))\n",
    "print('Mean : ',df1['Price'].mean())"
   ]
  },
  {
   "cell_type": "code",
   "execution_count": 85,
   "metadata": {},
   "outputs": [
    {
     "data": {
      "text/plain": [
       "array([0.58497585, 0.59136914, 0.5461501 , 0.54849436, 0.54026779,\n",
       "       0.52899318, 0.52840618, 0.66924666, 0.9999502 , 0.99991399])"
      ]
     },
     "execution_count": 85,
     "metadata": {},
     "output_type": "execute_result"
    }
   ],
   "source": [
    "#Here we are performed cross_val_score to improve our accuracy\n",
    "from sklearn.model_selection import cross_val_score\n",
    "score=cross_val_score(le,X,y,cv=10)\n",
    "score"
   ]
  },
  {
   "cell_type": "code",
   "execution_count": 86,
   "metadata": {},
   "outputs": [
    {
     "data": {
      "text/plain": [
       "0.6537767455525276"
      ]
     },
     "execution_count": 86,
     "metadata": {},
     "output_type": "execute_result"
    }
   ],
   "source": [
    "score.mean()"
   ]
  },
  {
   "cell_type": "code",
   "execution_count": 89,
   "metadata": {},
   "outputs": [],
   "source": [
    "from sklearn.tree import DecisionTreeRegressor\n",
    "dr=DecisionTreeRegressor()"
   ]
  },
  {
   "cell_type": "code",
   "execution_count": 90,
   "metadata": {},
   "outputs": [
    {
     "data": {
      "text/plain": [
       "DecisionTreeRegressor()"
      ]
     },
     "execution_count": 90,
     "metadata": {},
     "output_type": "execute_result"
    }
   ],
   "source": [
    "dr.fit(X_train,y_train)"
   ]
  },
  {
   "cell_type": "code",
   "execution_count": 92,
   "metadata": {},
   "outputs": [
    {
     "data": {
      "text/plain": [
       "array([ 635000., 1898000.,  520000., ...,  260000.,  525000.,  665000.])"
      ]
     },
     "execution_count": 92,
     "metadata": {},
     "output_type": "execute_result"
    }
   ],
   "source": [
    "pred=dr.predict(X_test)\n",
    "pred"
   ]
  },
  {
   "cell_type": "code",
   "execution_count": 93,
   "metadata": {},
   "outputs": [
    {
     "name": "stdout",
     "output_type": "stream",
     "text": [
      "Mean Absoluted Error:  241845.49244119335\n",
      "Mean Squared Error:  186870391419.06012\n",
      "Root Mean Squared Error:  432285.08118955494\n",
      "r2 score:  0.5095452337486669\n",
      "Mean :  1050173.344955408\n"
     ]
    }
   ],
   "source": [
    "print(\"Mean Absoluted Error: \",metrics.mean_absolute_error(y_test,pred))\n",
    "print(\"Mean Squared Error: \",metrics.mean_squared_error(y_test,pred))\n",
    "print(\"Root Mean Squared Error: \",np.sqrt(metrics.mean_squared_error(y_test,pred)))\n",
    "print(\"r2 score: \",metrics.r2_score(y_test,pred))\n",
    "print('Mean : ',df1['Price'].mean())"
   ]
  },
  {
   "cell_type": "code",
   "execution_count": 94,
   "metadata": {},
   "outputs": [],
   "source": [
    "#we can apply RandomForestRegressor Algorithnm in below step\n",
    "from sklearn.ensemble import RandomForestRegressor\n",
    "rf=RandomForestRegressor()"
   ]
  },
  {
   "cell_type": "code",
   "execution_count": 95,
   "metadata": {},
   "outputs": [
    {
     "data": {
      "text/plain": [
       "RandomForestRegressor()"
      ]
     },
     "execution_count": 95,
     "metadata": {},
     "output_type": "execute_result"
    }
   ],
   "source": [
    "rf.fit(X_train,y_train)"
   ]
  },
  {
   "cell_type": "code",
   "execution_count": 97,
   "metadata": {},
   "outputs": [
    {
     "data": {
      "text/plain": [
       "array([ 928179.68      , 1757180.65      ,  687657.03666667, ...,\n",
       "        327733.54      ,  678843.67      ,  665505.87      ])"
      ]
     },
     "execution_count": 97,
     "metadata": {},
     "output_type": "execute_result"
    }
   ],
   "source": [
    "pred1=rf.predict(X_test)\n",
    "pred1"
   ]
  },
  {
   "cell_type": "code",
   "execution_count": 98,
   "metadata": {},
   "outputs": [
    {
     "name": "stdout",
     "output_type": "stream",
     "text": [
      "Mean Absoluted Error:  181937.37551087784\n",
      "Mean Squared Error:  93328121337.48343\n",
      "Root Mean Squared Error:  305496.51608076226\n",
      "r2 score:  0.7550536412555361\n",
      "Mean :  1050173.344955408\n"
     ]
    }
   ],
   "source": [
    "print(\"Mean Absoluted Error: \",metrics.mean_absolute_error(y_test,pred1))\n",
    "print(\"Mean Squared Error: \",metrics.mean_squared_error(y_test,pred1))\n",
    "print(\"Root Mean Squared Error: \",np.sqrt(metrics.mean_squared_error(y_test,pred1)))\n",
    "print(\"r2 score: \",metrics.r2_score(y_test,pred1))\n",
    "print('Mean : ',df1['Price'].mean())"
   ]
  },
  {
   "cell_type": "markdown",
   "metadata": {},
   "source": [
    "# Hyperparameter Tuning"
   ]
  },
  {
   "cell_type": "markdown",
   "metadata": {},
   "source": [
    "The main parameters used by a Random Forest Regressor are:\n",
    "\n",
    "- criterion = the function used to evaluate the quality of a split.\n",
    "- max_depth = maximum number of levels allowed in each tree.\n",
    "- max_features = maximum number of features considered when splitting a node.\n",
    "- min_samples_leaf = minimum number of samples which can be stored in a tree leaf.\n",
    "- min_samples_split = minimum number of samples necessary in a node to cause node splitting.\n",
    "- n_estimators = number of trees in the ensamble."
   ]
  },
  {
   "cell_type": "markdown",
   "metadata": {},
   "source": [
    "# RandomizedSearchCV"
   ]
  },
  {
   "cell_type": "code",
   "execution_count": 102,
   "metadata": {},
   "outputs": [],
   "source": [
    "from sklearn.model_selection import RandomizedSearchCV,GridSearchCV"
   ]
  },
  {
   "cell_type": "code",
   "execution_count": 103,
   "metadata": {},
   "outputs": [
    {
     "name": "stdout",
     "output_type": "stream",
     "text": [
      "{'n_estimators': [200, 400, 600, 800, 1000, 1200, 1400, 1600, 1800, 2000], 'max_features': ['sqrt', 'auto'], 'max_depth': [5, 10, 15, 20, 25, 30], 'min_samples_split': [1, 2, 5, 6, 10, 100], 'min_samples_leaf': [1, 2, 5, 6, 9, 10]}\n"
     ]
    }
   ],
   "source": [
    "#no of trees in RandomForest \n",
    "n_estimators=[int(x) for x in np.linspace(start=200,stop=2000,num=10)]\n",
    "#no of features consider at every split\n",
    "max_features=['sqrt','auto']\n",
    "#maximum no of levels in a tree\n",
    "max_depth=[int(x) for x in np.linspace(5,30,num=6)]\n",
    "#minimum no of samples required to splitting a node\n",
    "min_samples_split=[1,2,5,6,10,100]\n",
    "#minimum samples required at each leaf node\n",
    "min_samples_leaf=[1,2,5,6,9,10]\n",
    "#create random_grid\n",
    "random_grid={\n",
    "    \"n_estimators\":n_estimators,\n",
    "    \"max_features\":max_features,\n",
    "    \"max_depth\":max_depth,\n",
    "    \"min_samples_split\":min_samples_split,\n",
    "    \"min_samples_leaf\":min_samples_leaf\n",
    "}\n",
    "print(random_grid)"
   ]
  },
  {
   "cell_type": "code",
   "execution_count": 104,
   "metadata": {},
   "outputs": [],
   "source": [
    "rfd=RandomForestRegressor()\n",
    "rf_random=RandomizedSearchCV(estimator=rfd,param_distributions=random_grid,scoring='neg_mean_squared_error',n_iter=10,cv=5,random_state=33,verbose=2,n_jobs=-1)"
   ]
  },
  {
   "cell_type": "code",
   "execution_count": 105,
   "metadata": {},
   "outputs": [
    {
     "name": "stdout",
     "output_type": "stream",
     "text": [
      "Fitting 5 folds for each of 10 candidates, totalling 50 fits\n"
     ]
    },
    {
     "name": "stderr",
     "output_type": "stream",
     "text": [
      "[Parallel(n_jobs=-1)]: Using backend LokyBackend with 4 concurrent workers.\n",
      "[Parallel(n_jobs=-1)]: Done  33 tasks      | elapsed: 16.9min\n",
      "[Parallel(n_jobs=-1)]: Done  50 out of  50 | elapsed: 17.3min finished\n"
     ]
    },
    {
     "data": {
      "text/plain": [
       "RandomizedSearchCV(cv=5, estimator=RandomForestRegressor(), n_jobs=-1,\n",
       "                   param_distributions={'max_depth': [5, 10, 15, 20, 25, 30],\n",
       "                                        'max_features': ['sqrt', 'auto'],\n",
       "                                        'min_samples_leaf': [1, 2, 5, 6, 9, 10],\n",
       "                                        'min_samples_split': [1, 2, 5, 6, 10,\n",
       "                                                              100],\n",
       "                                        'n_estimators': [200, 400, 600, 800,\n",
       "                                                         1000, 1200, 1400, 1600,\n",
       "                                                         1800, 2000]},\n",
       "                   random_state=33, scoring='neg_mean_squared_error',\n",
       "                   verbose=2)"
      ]
     },
     "execution_count": 105,
     "metadata": {},
     "output_type": "execute_result"
    }
   ],
   "source": [
    "#fit the randomized model\n",
    "rf_random.fit(X_train,y_train)"
   ]
  },
  {
   "cell_type": "code",
   "execution_count": 111,
   "metadata": {},
   "outputs": [
    {
     "data": {
      "text/plain": [
       "{'n_estimators': 800,\n",
       " 'min_samples_split': 5,\n",
       " 'min_samples_leaf': 2,\n",
       " 'max_features': 'sqrt',\n",
       " 'max_depth': 20}"
      ]
     },
     "execution_count": 111,
     "metadata": {},
     "output_type": "execute_result"
    }
   ],
   "source": [
    "rf_random.best_params_"
   ]
  },
  {
   "cell_type": "code",
   "execution_count": 112,
   "metadata": {},
   "outputs": [
    {
     "data": {
      "text/plain": [
       "RandomForestRegressor(max_depth=20, max_features='sqrt', min_samples_leaf=2,\n",
       "                      min_samples_split=5, n_estimators=800)"
      ]
     },
     "execution_count": 112,
     "metadata": {},
     "output_type": "execute_result"
    }
   ],
   "source": [
    "best_random_grid=rf_random.best_estimator_\n",
    "best_random_grid"
   ]
  },
  {
   "cell_type": "code",
   "execution_count": 113,
   "metadata": {},
   "outputs": [],
   "source": [
    "predictions=best_random_grid.predict(X_test)"
   ]
  },
  {
   "cell_type": "code",
   "execution_count": 114,
   "metadata": {},
   "outputs": [
    {
     "data": {
      "text/plain": [
       "array([ 898038.86242265, 1759775.88197594,  658277.60555751, ...,\n",
       "        378309.77616486,  640006.49485881,  672284.07790816])"
      ]
     },
     "execution_count": 114,
     "metadata": {},
     "output_type": "execute_result"
    }
   ],
   "source": [
    "predictions"
   ]
  },
  {
   "cell_type": "code",
   "execution_count": 115,
   "metadata": {},
   "outputs": [
    {
     "name": "stdout",
     "output_type": "stream",
     "text": [
      "Mean Absoluted Error:  173456.72452185853\n",
      "Mean Squared Error:  82117415007.21489\n",
      "Root Mean Squared Error:  286561.363423639\n",
      "r2 score:  0.7844769453486605\n",
      "Mean :  1096195.9356800644\n"
     ]
    }
   ],
   "source": [
    "print(\"Mean Absoluted Error: \",metrics.mean_absolute_error(y_test,predictions))\n",
    "print(\"Mean Squared Error: \",metrics.mean_squared_error(y_test,predictions))\n",
    "print(\"Root Mean Squared Error: \",np.sqrt(metrics.mean_squared_error(y_test,predictions)))\n",
    "print(\"r2 score: \",metrics.r2_score(y_test,predictions))\n",
    "print('Mean : ',df1['Price'].mean())"
   ]
  },
  {
   "cell_type": "code",
   "execution_count": 116,
   "metadata": {},
   "outputs": [
    {
     "data": {
      "text/plain": [
       "<matplotlib.axes._subplots.AxesSubplot at 0x1a67cba8be0>"
      ]
     },
     "execution_count": 116,
     "metadata": {},
     "output_type": "execute_result"
    },
    {
     "data": {
      "image/png": "[encoded data removed]",
      "text/plain": [
       "<Figure size 432x288 with 1 Axes>"
      ]
     },
     "metadata": {
      "needs_background": "light"
     },
     "output_type": "display_data"
    }
   ],
   "source": [
    "#Histogram o the distribution of residuals\n",
    "sns.distplot(y_test-predictions)"
   ]
  },
  {
   "cell_type": "code",
   "execution_count": 117,
   "metadata": {},
   "outputs": [
    {
     "data": {
      "text/plain": [
       "<matplotlib.collections.PathCollection at 0x1a67c9e3340>"
      ]
     },
     "execution_count": 117,
     "metadata": {},
     "output_type": "execute_result"
    },
    {
     "data": {
      "image/png": "[encoded data removed]",
      "text/plain": [
       "<Figure size 432x288 with 1 Axes>"
      ]
     },
     "metadata": {
      "needs_background": "light"
     },
     "output_type": "display_data"
    }
   ],
   "source": [
    "plt.scatter(y_test,predictions)"
   ]
  },
  {
   "cell_type": "code",
   "execution_count": 125,
   "metadata": {},
   "outputs": [
    {
     "data": {
      "text/plain": [
       "<matplotlib.axes._subplots.AxesSubplot at 0x1a67ca4e400>"
      ]
     },
     "execution_count": 125,
     "metadata": {},
     "output_type": "execute_result"
    },
    {
     "data": {
      "image/png": "[encoded data removed]",
      "text/plain": [
       "<Figure size 864x576 with 1 Axes>"
      ]
     },
     "metadata": {
      "needs_background": "light"
     },
     "output_type": "display_data"
    }
   ],
   "source": [
    "#let us find feature importance now i.e which feature is most important for this problem\n",
    "importances=pd.Series(rf.feature_importances_,index=X.columns)\n",
    "importances.plot(kind='barh',figsize=(12,8))\n",
    "\"\"\"rf.fit(X_train,y_train)\n",
    "features=X.columns\n",
    "importances = rf.feature_importances_\n",
    "indices = np.argsort(importances)\n",
    "plt.figure(1)\n",
    "plt.title('Feature Importances')\n",
    "plt.barh(range(len(indices)), importances[indices], color='b', align='center')\n",
    "plt.yticks(range(len(indices)), features[indices])\n",
    "plt.xlabel('Relative Importance')\"\"\""
   ]
  },
  {
   "cell_type": "code",
   "execution_count": null,
   "metadata": {},
   "outputs": [],
   "source": []
  }
 ],
 "metadata": {
  "kernelspec": {
   "display_name": "Python 3",
   "language": "python",
   "name": "python3"
  },
  "language_info": {
   "codemirror_mode": {
    "name": "ipython",
    "version": 3
   },
   "file_extension": ".py",
   "mimetype": "text/x-python",
   "name": "python",
   "nbconvert_exporter": "python",
   "pygments_lexer": "ipython3",
   "version": "3.8.3"
  }
 },
 "nbformat": 4,
 "nbformat_minor": 4
}
